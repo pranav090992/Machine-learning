{
 "cells": [
  {
   "cell_type": "markdown",
   "metadata": {},
   "source": [
    "## POS tagging using modified Viterbi"
   ]
  },
  {
   "cell_type": "markdown",
   "metadata": {},
   "source": [
    "### Data Preparation"
   ]
  },
  {
   "cell_type": "code",
   "execution_count": 1,
   "metadata": {},
   "outputs": [],
   "source": [
    "#Importing libraries\n",
    "import nltk, re, pprint\n",
    "import numpy as np\n",
    "import pandas as pd\n",
    "import requests\n",
    "import matplotlib.pyplot as plt\n",
    "import seaborn as sns\n",
    "import pprint, time\n",
    "import random\n",
    "from sklearn.model_selection import train_test_split\n",
    "from nltk.tokenize import word_tokenize"
   ]
  },
  {
   "cell_type": "code",
   "execution_count": 2,
   "metadata": {},
   "outputs": [],
   "source": [
    "# reading the Treebank tagged sentences (Universal Tagset)\n",
    "nltk_data = list(nltk.corpus.treebank.tagged_sents(tagset='universal'))"
   ]
  },
  {
   "cell_type": "code",
   "execution_count": 3,
   "metadata": {},
   "outputs": [
    {
     "name": "stdout",
     "output_type": "stream",
     "text": [
      "[[('Pierre', 'NOUN'), ('Vinken', 'NOUN'), (',', '.'), ('61', 'NUM'), ('years', 'NOUN'), ('old', 'ADJ'), (',', '.'), ('will', 'VERB'), ('join', 'VERB'), ('the', 'DET'), ('board', 'NOUN'), ('as', 'ADP'), ('a', 'DET'), ('nonexecutive', 'ADJ'), ('director', 'NOUN'), ('Nov.', 'NOUN'), ('29', 'NUM'), ('.', '.')], [('Mr.', 'NOUN'), ('Vinken', 'NOUN'), ('is', 'VERB'), ('chairman', 'NOUN'), ('of', 'ADP'), ('Elsevier', 'NOUN'), ('N.V.', 'NOUN'), (',', '.'), ('the', 'DET'), ('Dutch', 'NOUN'), ('publishing', 'VERB'), ('group', 'NOUN'), ('.', '.')], [('Rudolph', 'NOUN'), ('Agnew', 'NOUN'), (',', '.'), ('55', 'NUM'), ('years', 'NOUN'), ('old', 'ADJ'), ('and', 'CONJ'), ('former', 'ADJ'), ('chairman', 'NOUN'), ('of', 'ADP'), ('Consolidated', 'NOUN'), ('Gold', 'NOUN'), ('Fields', 'NOUN'), ('PLC', 'NOUN'), (',', '.'), ('was', 'VERB'), ('named', 'VERB'), ('*-1', 'X'), ('a', 'DET'), ('nonexecutive', 'ADJ'), ('director', 'NOUN'), ('of', 'ADP'), ('this', 'DET'), ('British', 'ADJ'), ('industrial', 'ADJ'), ('conglomerate', 'NOUN'), ('.', '.')], [('A', 'DET'), ('form', 'NOUN'), ('of', 'ADP'), ('asbestos', 'NOUN'), ('once', 'ADV'), ('used', 'VERB'), ('*', 'X'), ('*', 'X'), ('to', 'PRT'), ('make', 'VERB'), ('Kent', 'NOUN'), ('cigarette', 'NOUN'), ('filters', 'NOUN'), ('has', 'VERB'), ('caused', 'VERB'), ('a', 'DET'), ('high', 'ADJ'), ('percentage', 'NOUN'), ('of', 'ADP'), ('cancer', 'NOUN'), ('deaths', 'NOUN'), ('among', 'ADP'), ('a', 'DET'), ('group', 'NOUN'), ('of', 'ADP'), ('workers', 'NOUN'), ('exposed', 'VERB'), ('*', 'X'), ('to', 'PRT'), ('it', 'PRON'), ('more', 'ADV'), ('than', 'ADP'), ('30', 'NUM'), ('years', 'NOUN'), ('ago', 'ADP'), (',', '.'), ('researchers', 'NOUN'), ('reported', 'VERB'), ('0', 'X'), ('*T*-1', 'X'), ('.', '.')], [('The', 'DET'), ('asbestos', 'NOUN'), ('fiber', 'NOUN'), (',', '.'), ('crocidolite', 'NOUN'), (',', '.'), ('is', 'VERB'), ('unusually', 'ADV'), ('resilient', 'ADJ'), ('once', 'ADP'), ('it', 'PRON'), ('enters', 'VERB'), ('the', 'DET'), ('lungs', 'NOUN'), (',', '.'), ('with', 'ADP'), ('even', 'ADV'), ('brief', 'ADJ'), ('exposures', 'NOUN'), ('to', 'PRT'), ('it', 'PRON'), ('causing', 'VERB'), ('symptoms', 'NOUN'), ('that', 'DET'), ('*T*-1', 'X'), ('show', 'VERB'), ('up', 'PRT'), ('decades', 'NOUN'), ('later', 'ADJ'), (',', '.'), ('researchers', 'NOUN'), ('said', 'VERB'), ('0', 'X'), ('*T*-2', 'X'), ('.', '.')]]\n"
     ]
    }
   ],
   "source": [
    "# First few tagged (5) sentences\n",
    "print(nltk_data[:5])"
   ]
  },
  {
   "cell_type": "code",
   "execution_count": 4,
   "metadata": {},
   "outputs": [
    {
     "name": "stdout",
     "output_type": "stream",
     "text": [
      "3718\n",
      "196\n",
      "[[('William', 'NOUN'), ('Gates', 'NOUN'), ('and', 'CONJ'), ('Paul', 'NOUN'), ('Allen', 'NOUN'), ('in', 'ADP'), ('1975', 'NUM'), ('developed', 'VERB'), ('an', 'DET'), ('early', 'ADJ'), ('language-housekeeper', 'ADJ'), ('system', 'NOUN'), ('for', 'ADP'), ('PCs', 'NOUN'), (',', '.'), ('and', 'CONJ'), ('Gates', 'NOUN'), ('became', 'VERB'), ('an', 'DET'), ('industry', 'NOUN'), ('billionaire', 'NOUN'), ('six', 'NUM'), ('years', 'NOUN'), ('after', 'ADP'), ('IBM', 'NOUN'), ('adapted', 'VERB'), ('one', 'NUM'), ('of', 'ADP'), ('these', 'DET'), ('versions', 'NOUN'), ('in', 'ADP'), ('1981', 'NUM'), ('.', '.')], [('But', 'CONJ'), ('the', 'DET'), ('court', 'NOUN'), ('disagreed', 'VERB'), ('.', '.')]]\n"
     ]
    }
   ],
   "source": [
    "# Splitting nltk_data into train_set (95%) and test_set (5%)\n",
    "random.seed(1234)\n",
    "train_set, test_set = train_test_split(nltk_data,test_size=0.05)\n",
    "\n",
    "print(len(train_set))\n",
    "print(len(test_set))\n",
    "print(train_set[:2])"
   ]
  },
  {
   "cell_type": "markdown",
   "metadata": {},
   "source": [
    "#### So there are 3718 sentences in training set and 196 sentences in test set "
   ]
  },
  {
   "cell_type": "code",
   "execution_count": 5,
   "metadata": {},
   "outputs": [
    {
     "data": {
      "text/plain": [
       "95496"
      ]
     },
     "execution_count": 5,
     "metadata": {},
     "output_type": "execute_result"
    }
   ],
   "source": [
    "# Getting list of tagged words\n",
    "train_tagged_words = [tup for sent in train_set for tup in sent]\n",
    "len(train_tagged_words)"
   ]
  },
  {
   "cell_type": "markdown",
   "metadata": {},
   "source": [
    "#### There are 95862 tagged words in training dataset"
   ]
  },
  {
   "cell_type": "code",
   "execution_count": 6,
   "metadata": {},
   "outputs": [
    {
     "data": {
      "text/plain": [
       "[('William', 'NOUN'),\n",
       " ('Gates', 'NOUN'),\n",
       " ('and', 'CONJ'),\n",
       " ('Paul', 'NOUN'),\n",
       " ('Allen', 'NOUN'),\n",
       " ('in', 'ADP'),\n",
       " ('1975', 'NUM'),\n",
       " ('developed', 'VERB'),\n",
       " ('an', 'DET'),\n",
       " ('early', 'ADJ')]"
      ]
     },
     "execution_count": 6,
     "metadata": {},
     "output_type": "execute_result"
    }
   ],
   "source": [
    "train_tagged_words[:10]"
   ]
  },
  {
   "cell_type": "code",
   "execution_count": 7,
   "metadata": {},
   "outputs": [
    {
     "data": {
      "text/plain": [
       "['William',\n",
       " 'Gates',\n",
       " 'and',\n",
       " 'Paul',\n",
       " 'Allen',\n",
       " 'in',\n",
       " '1975',\n",
       " 'developed',\n",
       " 'an',\n",
       " 'early']"
      ]
     },
     "execution_count": 7,
     "metadata": {},
     "output_type": "execute_result"
    }
   ],
   "source": [
    "# tokens \n",
    "tokens = [pair[0] for pair in train_tagged_words]\n",
    "tokens[:10]"
   ]
  },
  {
   "cell_type": "code",
   "execution_count": 9,
   "metadata": {},
   "outputs": [
    {
     "name": "stdout",
     "output_type": "stream",
     "text": [
      "12070\n"
     ]
    }
   ],
   "source": [
    "# Count of vocabulary\n",
    "V = set(tokens)\n",
    "print(len(V))"
   ]
  },
  {
   "cell_type": "code",
   "execution_count": 8,
   "metadata": {},
   "outputs": [
    {
     "data": {
      "text/plain": [
       "12"
      ]
     },
     "execution_count": 8,
     "metadata": {},
     "output_type": "execute_result"
    }
   ],
   "source": [
    "# number of tags\n",
    "T = set([pair[1] for pair in train_tagged_words])\n",
    "len(T)"
   ]
  },
  {
   "cell_type": "code",
   "execution_count": 10,
   "metadata": {},
   "outputs": [
    {
     "name": "stdout",
     "output_type": "stream",
     "text": [
      "{'DET', 'VERB', '.', 'X', 'PRON', 'PRT', 'ADV', 'ADJ', 'ADP', 'NUM', 'NOUN', 'CONJ'}\n"
     ]
    }
   ],
   "source": [
    "# Unique Tags\n",
    "print(T)"
   ]
  },
  {
   "cell_type": "markdown",
   "metadata": {},
   "source": [
    "#### There are 12 unique tags used in training dataset, Total no of occurences of tag in the corpus is listed below."
   ]
  },
  {
   "cell_type": "code",
   "execution_count": 11,
   "metadata": {},
   "outputs": [
    {
     "data": {
      "text/plain": [
       "[('NOUN', 27400),\n",
       " ('VERB', 12884),\n",
       " ('.', 11118),\n",
       " ('ADP', 9313),\n",
       " ('DET', 8264),\n",
       " ('X', 6273),\n",
       " ('ADJ', 6081),\n",
       " ('NUM', 3336),\n",
       " ('PRT', 3058),\n",
       " ('ADV', 3009),\n",
       " ('PRON', 2612),\n",
       " ('CONJ', 2148)]"
      ]
     },
     "execution_count": 11,
     "metadata": {},
     "output_type": "execute_result"
    }
   ],
   "source": [
    "# To find the most frequent tag in the corpus\n",
    "# to count the frequency of elements in a list, We can use the Counter() class from collections as shown below\n",
    "\n",
    "from collections import Counter\n",
    "T_counts = Counter([pair[1] for pair in train_tagged_words])\n",
    "T_counts.most_common(12)"
   ]
  },
  {
   "cell_type": "markdown",
   "metadata": {},
   "source": [
    "### Emission Probabilities"
   ]
  },
  {
   "cell_type": "code",
   "execution_count": 12,
   "metadata": {},
   "outputs": [],
   "source": [
    "# computing P(w/t) and storing in T x V matrix\n",
    "t = len(T)\n",
    "v = len(V)\n",
    "w_given_t = np.zeros((t, v))"
   ]
  },
  {
   "cell_type": "code",
   "execution_count": 13,
   "metadata": {},
   "outputs": [],
   "source": [
    "# compute word given tag: Emission Probability\n",
    "def word_given_tag(word, tag, train_bag = train_tagged_words):\n",
    "    tag_list = [pair for pair in train_bag if pair[1]==tag]\n",
    "    count_tag = len(tag_list)\n",
    "    w_given_tag_list = [pair[0] for pair in tag_list if pair[0]==word]\n",
    "    count_w_given_tag = len(w_given_tag_list)\n",
    "    \n",
    "    return (count_w_given_tag, count_tag)"
   ]
  },
  {
   "cell_type": "code",
   "execution_count": 14,
   "metadata": {},
   "outputs": [
    {
     "name": "stdout",
     "output_type": "stream",
     "text": [
      "\n",
      " Emission Probabilities for word -> generally\n",
      "(12, 3009)\n",
      "(0, 12884)\n",
      "\n",
      " Emission Probabilities for word -> dollars\n",
      "(16, 27400)\n",
      "(0, 6081)\n"
     ]
    }
   ],
   "source": [
    "# generally\n",
    "print(\"\\n\", \"Emission Probabilities for word -> generally\")\n",
    "print(word_given_tag('generally', 'ADV'))\n",
    "print(word_given_tag('generally', 'VERB')) \n",
    "\n",
    "# dollars\n",
    "print(\"\\n\", \"Emission Probabilities for word -> dollars\")\n",
    "print(word_given_tag('dollars', 'NOUN'))\n",
    "print(word_given_tag('dollars', 'ADJ')) \n"
   ]
  },
  {
   "cell_type": "markdown",
   "metadata": {},
   "source": [
    "### Transition Probabilities"
   ]
  },
  {
   "cell_type": "code",
   "execution_count": 15,
   "metadata": {},
   "outputs": [],
   "source": [
    "# compute tag given tag: tag2(t2) given tag1 (t1), i.e. Transition Probability\n",
    "\n",
    "def t2_given_t1(t2, t1, train_bag = train_tagged_words):\n",
    "    tags = [pair[1] for pair in train_bag]\n",
    "    count_t1 = len([t for t in tags if t==t1])\n",
    "    count_t2_t1 = 0\n",
    "    for index in range(len(tags)-1):\n",
    "        if tags[index]==t1 and tags[index+1] == t2:\n",
    "            count_t2_t1 += 1\n",
    "    return (count_t2_t1, count_t1)"
   ]
  },
  {
   "cell_type": "code",
   "execution_count": 16,
   "metadata": {},
   "outputs": [
    {
     "name": "stdout",
     "output_type": "stream",
     "text": [
      "\n",
      " Transition Probabilities : T1 -> T2\n",
      "\n",
      " Transition Probabilities : ADJ -> NOUN\n",
      "(4259, 6081)\n",
      "\n",
      " Transition Probabilities : NOUN -> VERB\n",
      "(4020, 27400)\n",
      "\n",
      " Transition Probabilities : VERB -> ADV\n",
      "(1053, 12884)\n"
     ]
    }
   ],
   "source": [
    "# examples\n",
    "print(\"\\n\", \"Transition Probabilities : T1 -> T2\")\n",
    "\n",
    "print(\"\\n\", \"Transition Probabilities : ADJ -> NOUN\")\n",
    "print(t2_given_t1(t2='NOUN', t1='ADJ'))\n",
    "\n",
    "print(\"\\n\", \"Transition Probabilities : NOUN -> VERB\")\n",
    "print(t2_given_t1('VERB', 'NOUN')) \n",
    "\n",
    "print(\"\\n\", \"Transition Probabilities : VERB -> ADV\")\n",
    "print(t2_given_t1('ADV', 'VERB')) \n"
   ]
  },
  {
   "cell_type": "code",
   "execution_count": 17,
   "metadata": {},
   "outputs": [],
   "source": [
    "# creating t x t transition matrix of tags\n",
    "# each column is t2, each row is t1\n",
    "# thus M(i, j) represents P(tj given ti)\n",
    "\n",
    "tags_matrix = np.zeros((len(T), len(T)), dtype='float32')\n",
    "for i, t1 in enumerate(list(T)):\n",
    "    for j, t2 in enumerate(list(T)): \n",
    "        tags_matrix[i, j] = t2_given_t1(t2, t1)[0]/t2_given_t1(t2, t1)[1]"
   ]
  },
  {
   "cell_type": "code",
   "execution_count": 18,
   "metadata": {},
   "outputs": [
    {
     "data": {
      "text/plain": [
       "array([[5.20329131e-03, 3.96902226e-02, 1.71829630e-02, 4.59825732e-02,\n",
       "        3.50919645e-03, 2.42013557e-04, 1.28267184e-02, 2.05832526e-01,\n",
       "        9.19651520e-03, 2.21442394e-02, 6.37584686e-01, 6.05033885e-04],\n",
       "       [1.33809373e-01, 1.69124499e-01, 3.51598896e-02, 2.17246190e-01,\n",
       "        3.64017375e-02, 3.12791057e-02, 8.17292780e-02, 6.56628385e-02,\n",
       "        9.04222280e-02, 2.28966158e-02, 1.10757530e-01, 5.51071111e-03],\n",
       "       [1.73142657e-01, 8.88649002e-02, 9.28224474e-02, 2.74329912e-02,\n",
       "        6.59291223e-02, 2.33855005e-03, 5.26173785e-02, 4.45223972e-02,\n",
       "        9.07537341e-02, 8.00503716e-02, 2.23781258e-01, 5.76542541e-02],\n",
       "       [5.43599539e-02, 2.05802649e-01, 1.62282795e-01, 7.46054500e-02,\n",
       "        5.64323291e-02, 1.83803603e-01, 2.58249640e-02, 1.72166433e-02,\n",
       "        1.43631443e-01, 2.86944048e-03, 6.29682764e-02, 1.02024553e-02],\n",
       "       [9.57120955e-03, 4.86983150e-01, 3.98162343e-02, 9.34150070e-02,\n",
       "        7.65696773e-03, 1.26339970e-02, 3.36906575e-02, 7.19754994e-02,\n",
       "        2.22052075e-02, 6.89127110e-03, 2.09800914e-01, 5.35987737e-03],\n",
       "       [1.02354482e-01, 3.97972524e-01, 4.38194908e-02, 1.34074558e-02,\n",
       "        1.83126219e-02, 1.96206663e-03, 9.48332250e-03, 8.56769159e-02,\n",
       "        2.02746894e-02, 5.78809679e-02, 2.46566385e-01, 2.28907773e-03],\n",
       "       [6.91259578e-02, 3.47291470e-01, 1.36922568e-01, 2.32635420e-02,\n",
       "        1.49551341e-02, 1.42904622e-02, 7.94283822e-02, 1.28614157e-01,\n",
       "        1.16650052e-01, 3.12396139e-02, 3.12396139e-02, 6.97906269e-03],\n",
       "       [4.93339915e-03, 1.15112644e-02, 6.59430996e-02, 2.18714029e-02,\n",
       "        6.57786557e-04, 1.06890313e-02, 4.93339915e-03, 6.47919774e-02,\n",
       "        7.61387944e-02, 2.08847225e-02, 7.00378239e-01, 1.72668975e-02],\n",
       "       [3.24385256e-01, 8.59014317e-03, 4.00515422e-02, 3.41458172e-02,\n",
       "        6.88285157e-02, 1.39589817e-03, 1.29925907e-02, 1.07376784e-01,\n",
       "        1.67507790e-02, 6.33523017e-02, 3.21378708e-01, 7.51637504e-04],\n",
       "       [3.29736201e-03, 1.79856122e-02, 1.20203838e-01, 2.11930454e-01,\n",
       "        1.79856119e-03, 2.84772180e-02, 2.39808159e-03, 3.23740989e-02,\n",
       "        3.56714614e-02, 1.83752999e-01, 3.49220634e-01, 1.28896879e-02],\n",
       "       [1.31021896e-02, 1.46715328e-01, 2.39817515e-01, 2.87956204e-02,\n",
       "        4.78102174e-03, 4.40875925e-02, 1.71167888e-02, 1.23722628e-02,\n",
       "        1.76715329e-01, 9.01459809e-03, 2.64817506e-01, 4.26642336e-02],\n",
       "       [1.22905031e-01, 1.55493483e-01, 3.58472988e-02, 8.84543732e-03,\n",
       "        5.77281192e-02, 5.12104295e-03, 5.54003716e-02, 1.17783986e-01,\n",
       "        5.16759790e-02, 3.91061455e-02, 3.49627554e-01, 4.65549354e-04]],\n",
       "      dtype=float32)"
      ]
     },
     "execution_count": 18,
     "metadata": {},
     "output_type": "execute_result"
    }
   ],
   "source": [
    "tags_matrix"
   ]
  },
  {
   "cell_type": "code",
   "execution_count": 19,
   "metadata": {},
   "outputs": [],
   "source": [
    "# convert the matrix to a df for better readability\n",
    "tags_df = pd.DataFrame(tags_matrix, columns = list(T), index=list(T))"
   ]
  },
  {
   "cell_type": "code",
   "execution_count": 20,
   "metadata": {},
   "outputs": [
    {
     "data": {
      "text/html": [
       "<div>\n",
       "<style scoped>\n",
       "    .dataframe tbody tr th:only-of-type {\n",
       "        vertical-align: middle;\n",
       "    }\n",
       "\n",
       "    .dataframe tbody tr th {\n",
       "        vertical-align: top;\n",
       "    }\n",
       "\n",
       "    .dataframe thead th {\n",
       "        text-align: right;\n",
       "    }\n",
       "</style>\n",
       "<table border=\"1\" class=\"dataframe\">\n",
       "  <thead>\n",
       "    <tr style=\"text-align: right;\">\n",
       "      <th></th>\n",
       "      <th>DET</th>\n",
       "      <th>VERB</th>\n",
       "      <th>.</th>\n",
       "      <th>X</th>\n",
       "      <th>PRON</th>\n",
       "      <th>PRT</th>\n",
       "      <th>ADV</th>\n",
       "      <th>ADJ</th>\n",
       "      <th>ADP</th>\n",
       "      <th>NUM</th>\n",
       "      <th>NOUN</th>\n",
       "      <th>CONJ</th>\n",
       "    </tr>\n",
       "  </thead>\n",
       "  <tbody>\n",
       "    <tr>\n",
       "      <th>DET</th>\n",
       "      <td>0.005203</td>\n",
       "      <td>0.039690</td>\n",
       "      <td>0.017183</td>\n",
       "      <td>0.045983</td>\n",
       "      <td>0.003509</td>\n",
       "      <td>0.000242</td>\n",
       "      <td>0.012827</td>\n",
       "      <td>0.205833</td>\n",
       "      <td>0.009197</td>\n",
       "      <td>0.022144</td>\n",
       "      <td>0.637585</td>\n",
       "      <td>0.000605</td>\n",
       "    </tr>\n",
       "    <tr>\n",
       "      <th>VERB</th>\n",
       "      <td>0.133809</td>\n",
       "      <td>0.169124</td>\n",
       "      <td>0.035160</td>\n",
       "      <td>0.217246</td>\n",
       "      <td>0.036402</td>\n",
       "      <td>0.031279</td>\n",
       "      <td>0.081729</td>\n",
       "      <td>0.065663</td>\n",
       "      <td>0.090422</td>\n",
       "      <td>0.022897</td>\n",
       "      <td>0.110758</td>\n",
       "      <td>0.005511</td>\n",
       "    </tr>\n",
       "    <tr>\n",
       "      <th>.</th>\n",
       "      <td>0.173143</td>\n",
       "      <td>0.088865</td>\n",
       "      <td>0.092822</td>\n",
       "      <td>0.027433</td>\n",
       "      <td>0.065929</td>\n",
       "      <td>0.002339</td>\n",
       "      <td>0.052617</td>\n",
       "      <td>0.044522</td>\n",
       "      <td>0.090754</td>\n",
       "      <td>0.080050</td>\n",
       "      <td>0.223781</td>\n",
       "      <td>0.057654</td>\n",
       "    </tr>\n",
       "    <tr>\n",
       "      <th>X</th>\n",
       "      <td>0.054360</td>\n",
       "      <td>0.205803</td>\n",
       "      <td>0.162283</td>\n",
       "      <td>0.074605</td>\n",
       "      <td>0.056432</td>\n",
       "      <td>0.183804</td>\n",
       "      <td>0.025825</td>\n",
       "      <td>0.017217</td>\n",
       "      <td>0.143631</td>\n",
       "      <td>0.002869</td>\n",
       "      <td>0.062968</td>\n",
       "      <td>0.010202</td>\n",
       "    </tr>\n",
       "    <tr>\n",
       "      <th>PRON</th>\n",
       "      <td>0.009571</td>\n",
       "      <td>0.486983</td>\n",
       "      <td>0.039816</td>\n",
       "      <td>0.093415</td>\n",
       "      <td>0.007657</td>\n",
       "      <td>0.012634</td>\n",
       "      <td>0.033691</td>\n",
       "      <td>0.071975</td>\n",
       "      <td>0.022205</td>\n",
       "      <td>0.006891</td>\n",
       "      <td>0.209801</td>\n",
       "      <td>0.005360</td>\n",
       "    </tr>\n",
       "    <tr>\n",
       "      <th>PRT</th>\n",
       "      <td>0.102354</td>\n",
       "      <td>0.397973</td>\n",
       "      <td>0.043819</td>\n",
       "      <td>0.013407</td>\n",
       "      <td>0.018313</td>\n",
       "      <td>0.001962</td>\n",
       "      <td>0.009483</td>\n",
       "      <td>0.085677</td>\n",
       "      <td>0.020275</td>\n",
       "      <td>0.057881</td>\n",
       "      <td>0.246566</td>\n",
       "      <td>0.002289</td>\n",
       "    </tr>\n",
       "    <tr>\n",
       "      <th>ADV</th>\n",
       "      <td>0.069126</td>\n",
       "      <td>0.347291</td>\n",
       "      <td>0.136923</td>\n",
       "      <td>0.023264</td>\n",
       "      <td>0.014955</td>\n",
       "      <td>0.014290</td>\n",
       "      <td>0.079428</td>\n",
       "      <td>0.128614</td>\n",
       "      <td>0.116650</td>\n",
       "      <td>0.031240</td>\n",
       "      <td>0.031240</td>\n",
       "      <td>0.006979</td>\n",
       "    </tr>\n",
       "    <tr>\n",
       "      <th>ADJ</th>\n",
       "      <td>0.004933</td>\n",
       "      <td>0.011511</td>\n",
       "      <td>0.065943</td>\n",
       "      <td>0.021871</td>\n",
       "      <td>0.000658</td>\n",
       "      <td>0.010689</td>\n",
       "      <td>0.004933</td>\n",
       "      <td>0.064792</td>\n",
       "      <td>0.076139</td>\n",
       "      <td>0.020885</td>\n",
       "      <td>0.700378</td>\n",
       "      <td>0.017267</td>\n",
       "    </tr>\n",
       "    <tr>\n",
       "      <th>ADP</th>\n",
       "      <td>0.324385</td>\n",
       "      <td>0.008590</td>\n",
       "      <td>0.040052</td>\n",
       "      <td>0.034146</td>\n",
       "      <td>0.068829</td>\n",
       "      <td>0.001396</td>\n",
       "      <td>0.012993</td>\n",
       "      <td>0.107377</td>\n",
       "      <td>0.016751</td>\n",
       "      <td>0.063352</td>\n",
       "      <td>0.321379</td>\n",
       "      <td>0.000752</td>\n",
       "    </tr>\n",
       "    <tr>\n",
       "      <th>NUM</th>\n",
       "      <td>0.003297</td>\n",
       "      <td>0.017986</td>\n",
       "      <td>0.120204</td>\n",
       "      <td>0.211930</td>\n",
       "      <td>0.001799</td>\n",
       "      <td>0.028477</td>\n",
       "      <td>0.002398</td>\n",
       "      <td>0.032374</td>\n",
       "      <td>0.035671</td>\n",
       "      <td>0.183753</td>\n",
       "      <td>0.349221</td>\n",
       "      <td>0.012890</td>\n",
       "    </tr>\n",
       "    <tr>\n",
       "      <th>NOUN</th>\n",
       "      <td>0.013102</td>\n",
       "      <td>0.146715</td>\n",
       "      <td>0.239818</td>\n",
       "      <td>0.028796</td>\n",
       "      <td>0.004781</td>\n",
       "      <td>0.044088</td>\n",
       "      <td>0.017117</td>\n",
       "      <td>0.012372</td>\n",
       "      <td>0.176715</td>\n",
       "      <td>0.009015</td>\n",
       "      <td>0.264818</td>\n",
       "      <td>0.042664</td>\n",
       "    </tr>\n",
       "    <tr>\n",
       "      <th>CONJ</th>\n",
       "      <td>0.122905</td>\n",
       "      <td>0.155493</td>\n",
       "      <td>0.035847</td>\n",
       "      <td>0.008845</td>\n",
       "      <td>0.057728</td>\n",
       "      <td>0.005121</td>\n",
       "      <td>0.055400</td>\n",
       "      <td>0.117784</td>\n",
       "      <td>0.051676</td>\n",
       "      <td>0.039106</td>\n",
       "      <td>0.349628</td>\n",
       "      <td>0.000466</td>\n",
       "    </tr>\n",
       "  </tbody>\n",
       "</table>\n",
       "</div>"
      ],
      "text/plain": [
       "           DET      VERB         .         X      PRON       PRT       ADV  \\\n",
       "DET   0.005203  0.039690  0.017183  0.045983  0.003509  0.000242  0.012827   \n",
       "VERB  0.133809  0.169124  0.035160  0.217246  0.036402  0.031279  0.081729   \n",
       ".     0.173143  0.088865  0.092822  0.027433  0.065929  0.002339  0.052617   \n",
       "X     0.054360  0.205803  0.162283  0.074605  0.056432  0.183804  0.025825   \n",
       "PRON  0.009571  0.486983  0.039816  0.093415  0.007657  0.012634  0.033691   \n",
       "PRT   0.102354  0.397973  0.043819  0.013407  0.018313  0.001962  0.009483   \n",
       "ADV   0.069126  0.347291  0.136923  0.023264  0.014955  0.014290  0.079428   \n",
       "ADJ   0.004933  0.011511  0.065943  0.021871  0.000658  0.010689  0.004933   \n",
       "ADP   0.324385  0.008590  0.040052  0.034146  0.068829  0.001396  0.012993   \n",
       "NUM   0.003297  0.017986  0.120204  0.211930  0.001799  0.028477  0.002398   \n",
       "NOUN  0.013102  0.146715  0.239818  0.028796  0.004781  0.044088  0.017117   \n",
       "CONJ  0.122905  0.155493  0.035847  0.008845  0.057728  0.005121  0.055400   \n",
       "\n",
       "           ADJ       ADP       NUM      NOUN      CONJ  \n",
       "DET   0.205833  0.009197  0.022144  0.637585  0.000605  \n",
       "VERB  0.065663  0.090422  0.022897  0.110758  0.005511  \n",
       ".     0.044522  0.090754  0.080050  0.223781  0.057654  \n",
       "X     0.017217  0.143631  0.002869  0.062968  0.010202  \n",
       "PRON  0.071975  0.022205  0.006891  0.209801  0.005360  \n",
       "PRT   0.085677  0.020275  0.057881  0.246566  0.002289  \n",
       "ADV   0.128614  0.116650  0.031240  0.031240  0.006979  \n",
       "ADJ   0.064792  0.076139  0.020885  0.700378  0.017267  \n",
       "ADP   0.107377  0.016751  0.063352  0.321379  0.000752  \n",
       "NUM   0.032374  0.035671  0.183753  0.349221  0.012890  \n",
       "NOUN  0.012372  0.176715  0.009015  0.264818  0.042664  \n",
       "CONJ  0.117784  0.051676  0.039106  0.349628  0.000466  "
      ]
     },
     "execution_count": 20,
     "metadata": {},
     "output_type": "execute_result"
    }
   ],
   "source": [
    "tags_df"
   ]
  },
  {
   "cell_type": "code",
   "execution_count": 21,
   "metadata": {},
   "outputs": [
    {
     "data": {
      "image/png": "[encoded data removed]",
      "text/plain": [
       "<Figure size 720x576 with 2 Axes>"
      ]
     },
     "metadata": {
      "needs_background": "light"
     },
     "output_type": "display_data"
    }
   ],
   "source": [
    "# heatmap of tags matrix\n",
    "# T(i, j) means P(tag j given tag i)\n",
    "plt.figure(figsize=(10, 8))\n",
    "sns.heatmap(tags_df)\n",
    "plt.show()\n"
   ]
  },
  {
   "cell_type": "code",
   "execution_count": 22,
   "metadata": {},
   "outputs": [
    {
     "data": {
      "image/png": "[encoded data removed]",
      "text/plain": [
       "<Figure size 720x576 with 2 Axes>"
      ]
     },
     "metadata": {
      "needs_background": "light"
     },
     "output_type": "display_data"
    }
   ],
   "source": [
    "# frequent tags\n",
    "# filter the df to get P(t2, t1) > 0.2\n",
    "tags_frequent = tags_df[tags_df>0.2]\n",
    "plt.figure(figsize=(10, 8))\n",
    "sns.heatmap(tags_frequent)\n",
    "plt.show()"
   ]
  },
  {
   "cell_type": "markdown",
   "metadata": {},
   "source": [
    "### Build the vanilla Viterbi based POS tagger"
   ]
  },
  {
   "cell_type": "code",
   "execution_count": 23,
   "metadata": {},
   "outputs": [],
   "source": [
    "# Viterbi Heuristic\n",
    "def Viterbi(words, train_bag = train_tagged_words):\n",
    "    state = []\n",
    "    T = list(set([pair[1] for pair in train_bag]))\n",
    "    \n",
    "    for key, word in enumerate(words):\n",
    "        #initialise list of probability column for a given observation\n",
    "        p = [] \n",
    "        for tag in T:\n",
    "            if key == 0:\n",
    "                transition_p = tags_df.loc['.', tag]\n",
    "            else:\n",
    "                transition_p = tags_df.loc[state[-1], tag]\n",
    "                \n",
    "            # compute emission and state probabilities\n",
    "            emission_p = word_given_tag(words[key], tag)[0]/word_given_tag(words[key], tag)[1]\n",
    "            state_probability = emission_p * transition_p    \n",
    "            p.append(state_probability)\n",
    "            \n",
    "        pmax = max(p)\n",
    "        # getting state for which probability is maximum\n",
    "        state_max = T[p.index(pmax)] \n",
    "        state.append(state_max)\n",
    "    return list(zip(words, state))\n"
   ]
  },
  {
   "cell_type": "code",
   "execution_count": 24,
   "metadata": {},
   "outputs": [
    {
     "data": {
      "text/plain": [
       "[[('``', '.'),\n",
       "  ('Both', 'DET'),\n",
       "  ('sides', 'NOUN'),\n",
       "  ('are', 'VERB'),\n",
       "  ('taking', 'VERB'),\n",
       "  ('action', 'NOUN'),\n",
       "  ('.', '.'),\n",
       "  (\"''\", '.')],\n",
       " [('In', 'ADP'),\n",
       "  ('CAT', 'NOUN'),\n",
       "  ('sections', 'NOUN'),\n",
       "  ('where', 'ADV'),\n",
       "  ('students', 'NOUN'),\n",
       "  (\"'\", 'PRT'),\n",
       "  ('knowledge', 'NOUN'),\n",
       "  ('of', 'ADP'),\n",
       "  ('two-letter', 'ADJ'),\n",
       "  ('consonant', 'ADJ'),\n",
       "  ('sounds', 'NOUN'),\n",
       "  ('is', 'VERB'),\n",
       "  ('tested', 'VERB'),\n",
       "  ('*-1', 'X'),\n",
       "  ('*T*-2', 'X'),\n",
       "  (',', '.'),\n",
       "  ('the', 'DET'),\n",
       "  ('authors', 'NOUN'),\n",
       "  ('noted', 'VERB'),\n",
       "  ('that', 'ADP'),\n",
       "  ('Scoring', 'NOUN'),\n",
       "  ('High', 'NOUN'),\n",
       "  ('concentrated', 'VERB'),\n",
       "  ('on', 'ADP'),\n",
       "  ('the', 'DET'),\n",
       "  ('same', 'ADJ'),\n",
       "  ('sounds', 'NOUN'),\n",
       "  ('that', 'ADP'),\n",
       "  ('the', 'DET'),\n",
       "  ('test', 'NOUN'),\n",
       "  ('does', 'VERB'),\n",
       "  ('*?*', 'X'),\n",
       "  ('*T*-4', 'X'),\n",
       "  ('--', '.'),\n",
       "  ('to', 'ADP'),\n",
       "  ('the', 'DET'),\n",
       "  ('exclusion', 'NOUN'),\n",
       "  ('of', 'ADP'),\n",
       "  ('other', 'ADJ'),\n",
       "  ('sounds', 'NOUN'),\n",
       "  ('that', 'ADP'),\n",
       "  ('fifth', 'ADJ'),\n",
       "  ('graders', 'NOUN'),\n",
       "  ('should', 'VERB'),\n",
       "  ('know', 'VERB'),\n",
       "  ('*T*-3', 'X'),\n",
       "  ('.', '.')],\n",
       " [('For', 'ADP'),\n",
       "  ('example', 'NOUN'),\n",
       "  (',', '.'),\n",
       "  ('Campbell', 'NOUN'),\n",
       "  ('is', 'VERB'),\n",
       "  ('a', 'DET'),\n",
       "  ('distant', 'ADJ'),\n",
       "  ('third', 'ADJ'),\n",
       "  ('in', 'ADP'),\n",
       "  ('the', 'DET'),\n",
       "  ('U.K.', 'NOUN'),\n",
       "  ('frozen', 'VERB'),\n",
       "  ('foods', 'NOUN'),\n",
       "  ('market', 'NOUN'),\n",
       "  (',', '.'),\n",
       "  ('where', 'ADV'),\n",
       "  ('it', 'PRON'),\n",
       "  ('recently', 'ADV'),\n",
       "  ('paid', 'VERB'),\n",
       "  ('24', 'NUM'),\n",
       "  ('times', 'NOUN'),\n",
       "  ('earnings', 'NOUN'),\n",
       "  ('for', 'ADP'),\n",
       "  ('Freshbake', 'NOUN'),\n",
       "  ('Foods', 'NOUN'),\n",
       "  ('PLC', 'NOUN'),\n",
       "  ('and', 'CONJ'),\n",
       "  ('wound', 'VERB'),\n",
       "  ('up', 'PRT'),\n",
       "  ('with', 'ADP'),\n",
       "  ('far', 'ADV'),\n",
       "  ('more', 'ADJ'),\n",
       "  ('capacity', 'NOUN'),\n",
       "  ('than', 'ADP'),\n",
       "  ('it', 'PRON'),\n",
       "  ('could', 'VERB'),\n",
       "  ('use', 'VERB'),\n",
       "  ('*?*', 'X'),\n",
       "  ('*T*-1', 'X'),\n",
       "  ('.', '.')],\n",
       " [('SHAREDATA', 'NOUN'),\n",
       "  ('Inc.', 'NOUN'),\n",
       "  ('said', 'VERB'),\n",
       "  ('0', 'X'),\n",
       "  ('it', 'PRON'),\n",
       "  ('will', 'VERB'),\n",
       "  ('amend', 'VERB'),\n",
       "  ('a', 'DET'),\n",
       "  ('registration', 'NOUN'),\n",
       "  ('statement', 'NOUN'),\n",
       "  ('filed', 'VERB'),\n",
       "  ('*', 'X'),\n",
       "  ('with', 'ADP'),\n",
       "  ('the', 'DET'),\n",
       "  ('Securities', 'NOUN'),\n",
       "  ('and', 'CONJ'),\n",
       "  ('Exchange', 'NOUN'),\n",
       "  ('Commission', 'NOUN'),\n",
       "  ('*-1', 'X'),\n",
       "  ('to', 'PRT'),\n",
       "  ('delete', 'VERB'),\n",
       "  ('a', 'DET'),\n",
       "  ('plan', 'NOUN'),\n",
       "  ('*', 'X'),\n",
       "  ('to', 'PRT'),\n",
       "  ('sell', 'VERB'),\n",
       "  ('500,000', 'NUM'),\n",
       "  ('newly', 'ADV'),\n",
       "  ('issued', 'VERB'),\n",
       "  ('common', 'ADJ'),\n",
       "  ('shares', 'NOUN'),\n",
       "  ('.', '.')],\n",
       " [('Investors', 'NOUN'),\n",
       "  ('took', 'VERB'),\n",
       "  ('advantage', 'NOUN'),\n",
       "  ('of', 'ADP'),\n",
       "  ('Tuesday', 'NOUN'),\n",
       "  (\"'s\", 'PRT'),\n",
       "  ('stock', 'NOUN'),\n",
       "  ('rally', 'NOUN'),\n",
       "  ('*-1', 'X'),\n",
       "  ('to', 'PRT'),\n",
       "  ('book', 'VERB'),\n",
       "  ('some', 'DET'),\n",
       "  ('profits', 'NOUN'),\n",
       "  ('yesterday', 'NOUN'),\n",
       "  (',', '.'),\n",
       "  ('*-1', 'X'),\n",
       "  ('leaving', 'VERB'),\n",
       "  ('stocks', 'ADV'),\n",
       "  ('up', 'ADP'),\n",
       "  ('fractionally', 'ADV'),\n",
       "  ('.', '.')]]"
      ]
     },
     "execution_count": 24,
     "metadata": {},
     "output_type": "execute_result"
    }
   ],
   "source": [
    "# Running on entire test dataset would take more than 3-4hrs. \n",
    "# Let's test our Viterbi algorithm on a few sample sentences of test_set dataset\n",
    "\n",
    "random.seed(1234)\n",
    "\n",
    "# choose random 5 sents\n",
    "rndom = [random.randint(1,len(test_set)) for x in range(5)]\n",
    "\n",
    "# list of sents\n",
    "test_run = [test_set[i] for i in rndom]\n",
    "\n",
    "# list of tagged words\n",
    "test_run_base = [tup for sent in test_run for tup in sent]\n",
    "\n",
    "# list of untagged words\n",
    "test_tagged_words = [tup[0] for sent in test_run for tup in sent]\n",
    "test_run"
   ]
  },
  {
   "cell_type": "code",
   "execution_count": 25,
   "metadata": {},
   "outputs": [],
   "source": [
    "# tagging the test_set data sentences\n",
    "start = time.time()\n",
    "tagged_seq = Viterbi(test_tagged_words)\n",
    "end = time.time()\n",
    "difference = end-start"
   ]
  },
  {
   "cell_type": "code",
   "execution_count": 26,
   "metadata": {
    "scrolled": true
   },
   "outputs": [
    {
     "name": "stdout",
     "output_type": "stream",
     "text": [
      "Time taken in seconds:  40.498812437057495\n",
      "[('``', '.'), ('Both', 'DET'), ('sides', 'NOUN'), ('are', 'VERB'), ('taking', 'VERB'), ('action', 'NOUN'), ('.', '.'), (\"''\", '.'), ('In', 'ADP'), ('CAT', 'NOUN'), ('sections', 'NOUN'), ('where', 'ADV'), ('students', 'NOUN'), (\"'\", 'PRT'), ('knowledge', 'NOUN'), ('of', 'ADP'), ('two-letter', 'DET'), ('consonant', 'DET'), ('sounds', 'VERB'), ('is', 'VERB'), ('tested', 'VERB'), ('*-1', 'X'), ('*T*-2', 'X'), (',', '.'), ('the', 'DET'), ('authors', 'NOUN'), ('noted', 'VERB'), ('that', 'ADP'), ('Scoring', 'NOUN'), ('High', 'NOUN'), ('concentrated', 'VERB'), ('on', 'ADP'), ('the', 'DET'), ('same', 'ADJ'), ('sounds', 'VERB'), ('that', 'ADP'), ('the', 'DET'), ('test', 'NOUN'), ('does', 'VERB'), ('*?*', 'X'), ('*T*-4', 'X'), ('--', '.'), ('to', 'PRT'), ('the', 'DET'), ('exclusion', 'DET'), ('of', 'ADP'), ('other', 'ADJ'), ('sounds', 'VERB'), ('that', 'ADP'), ('fifth', 'ADJ'), ('graders', 'NOUN'), ('should', 'VERB'), ('know', 'VERB'), ('*T*-3', 'X'), ('.', '.'), ('For', 'ADP'), ('example', 'NOUN'), (',', '.'), ('Campbell', 'NOUN'), ('is', 'VERB'), ('a', 'DET'), ('distant', 'DET'), ('third', 'ADJ'), ('in', 'ADP'), ('the', 'DET'), ('U.K.', 'NOUN'), ('frozen', 'VERB'), ('foods', 'DET'), ('market', 'NOUN'), (',', '.'), ('where', 'ADV'), ('it', 'PRON'), ('recently', 'ADV'), ('paid', 'VERB'), ('24', 'NUM'), ('times', 'NOUN'), ('earnings', 'NOUN'), ('for', 'ADP'), ('Freshbake', 'DET'), ('Foods', 'NOUN'), ('PLC', 'NOUN'), ('and', 'CONJ'), ('wound', 'NOUN'), ('up', 'PRT'), ('with', 'ADP'), ('far', 'ADV'), ('more', 'ADJ'), ('capacity', 'NOUN'), ('than', 'ADP'), ('it', 'PRON'), ('could', 'VERB'), ('use', 'VERB'), ('*?*', 'X'), ('*T*-1', 'X'), ('.', '.'), ('SHAREDATA', 'DET'), ('Inc.', 'NOUN'), ('said', 'VERB'), ('0', 'X'), ('it', 'PRON'), ('will', 'VERB'), ('amend', 'DET'), ('a', 'DET'), ('registration', 'NOUN'), ('statement', 'NOUN'), ('filed', 'VERB'), ('*', 'X'), ('with', 'ADP'), ('the', 'DET'), ('Securities', 'NOUN'), ('and', 'CONJ'), ('Exchange', 'NOUN'), ('Commission', 'NOUN'), ('*-1', 'X'), ('to', 'PRT'), ('delete', 'DET'), ('a', 'DET'), ('plan', 'NOUN'), ('*', 'X'), ('to', 'PRT'), ('sell', 'VERB'), ('500,000', 'NUM'), ('newly', 'ADV'), ('issued', 'VERB'), ('common', 'ADJ'), ('shares', 'NOUN'), ('.', '.'), ('Investors', 'NOUN'), ('took', 'VERB'), ('advantage', 'NOUN'), ('of', 'ADP'), ('Tuesday', 'NOUN'), (\"'s\", 'PRT'), ('stock', 'NOUN'), ('rally', 'NOUN'), ('*-1', 'X'), ('to', 'PRT'), ('book', 'NOUN'), ('some', 'DET'), ('profits', 'NOUN'), ('yesterday', 'NOUN'), (',', '.'), ('*-1', 'X'), ('leaving', 'VERB'), ('stocks', 'NOUN'), ('up', 'PRT'), ('fractionally', 'ADV'), ('.', '.')]\n"
     ]
    }
   ],
   "source": [
    "print(\"Time taken in seconds: \", difference)\n",
    "print(tagged_seq) "
   ]
  },
  {
   "cell_type": "code",
   "execution_count": 27,
   "metadata": {},
   "outputs": [],
   "source": [
    "# accuracy\n",
    "check = [i for i, j in zip(tagged_seq, test_run_base) if i == j] "
   ]
  },
  {
   "cell_type": "code",
   "execution_count": 28,
   "metadata": {},
   "outputs": [],
   "source": [
    "Viterbi_Initial_Accuracy_on_TEST_SET = len(check)/len(tagged_seq)"
   ]
  },
  {
   "cell_type": "code",
   "execution_count": 29,
   "metadata": {},
   "outputs": [
    {
     "name": "stdout",
     "output_type": "stream",
     "text": [
      "Viterbi Algorithm Accuracy:  88.51  %\n"
     ]
    }
   ],
   "source": [
    "print('Viterbi Algorithm Accuracy: ', round(Viterbi_Initial_Accuracy_on_TEST_SET *100,2) , \" %\")"
   ]
  },
  {
   "cell_type": "markdown",
   "metadata": {},
   "source": [
    " "
   ]
  },
  {
   "cell_type": "markdown",
   "metadata": {},
   "source": [
    " "
   ]
  },
  {
   "cell_type": "code",
   "execution_count": 30,
   "metadata": {},
   "outputs": [],
   "source": [
    "# To find Incorrectly tagged words in test_set data\n",
    "incorrect_tagged_cases = [[test_run_base[i-1],j] for i, j in enumerate(zip(tagged_seq, test_run_base)) if j[0]!=j[1]]"
   ]
  },
  {
   "cell_type": "code",
   "execution_count": 31,
   "metadata": {},
   "outputs": [
    {
     "data": {
      "text/plain": [
       "[[('of', 'ADP'), (('two-letter', 'DET'), ('two-letter', 'ADJ'))],\n",
       " [('two-letter', 'ADJ'), (('consonant', 'DET'), ('consonant', 'ADJ'))],\n",
       " [('consonant', 'ADJ'), (('sounds', 'VERB'), ('sounds', 'NOUN'))],\n",
       " [('same', 'ADJ'), (('sounds', 'VERB'), ('sounds', 'NOUN'))],\n",
       " [('--', '.'), (('to', 'PRT'), ('to', 'ADP'))],\n",
       " [('the', 'DET'), (('exclusion', 'DET'), ('exclusion', 'NOUN'))],\n",
       " [('other', 'ADJ'), (('sounds', 'VERB'), ('sounds', 'NOUN'))],\n",
       " [('a', 'DET'), (('distant', 'DET'), ('distant', 'ADJ'))],\n",
       " [('frozen', 'VERB'), (('foods', 'DET'), ('foods', 'NOUN'))],\n",
       " [('for', 'ADP'), (('Freshbake', 'DET'), ('Freshbake', 'NOUN'))],\n",
       " [('and', 'CONJ'), (('wound', 'NOUN'), ('wound', 'VERB'))],\n",
       " [('.', '.'), (('SHAREDATA', 'DET'), ('SHAREDATA', 'NOUN'))],\n",
       " [('will', 'VERB'), (('amend', 'DET'), ('amend', 'VERB'))],\n",
       " [('to', 'PRT'), (('delete', 'DET'), ('delete', 'VERB'))],\n",
       " [('to', 'PRT'), (('book', 'NOUN'), ('book', 'VERB'))],\n",
       " [('leaving', 'VERB'), (('stocks', 'NOUN'), ('stocks', 'ADV'))],\n",
       " [('stocks', 'ADV'), (('up', 'PRT'), ('up', 'ADP'))]]"
      ]
     },
     "execution_count": 31,
     "metadata": {},
     "output_type": "execute_result"
    }
   ],
   "source": [
    "incorrect_tagged_cases"
   ]
  },
  {
   "cell_type": "markdown",
   "metadata": {},
   "source": [
    " "
   ]
  },
  {
   "cell_type": "markdown",
   "metadata": {},
   "source": [
    "#### Now let us use the \"Test sentences.txt\" file and find how the unknown words in the file (unknown words, which are not present in Universal corpus) are tagged.  "
   ]
  },
  {
   "cell_type": "code",
   "execution_count": 32,
   "metadata": {
    "scrolled": true
   },
   "outputs": [
    {
     "data": {
      "text/plain": [
       "['Android is a mobile operating system developed by Google.',\n",
       " 'Android has been the best-selling OS worldwide on smartphones since 2011 and on tablets since 2013.',\n",
       " \"Google and Twitter made a deal in 2015 that gave Google access to Twitter's firehose.\",\n",
       " 'Twitter is an online news and social networking service on which users post and interact with messages known as tweets.',\n",
       " 'Before entering politics, Donald Trump was a domineering businessman and a television personality.',\n",
       " 'The 2018 FIFA World Cup is the 21st FIFA World Cup, an international football tournament contested once every four years.',\n",
       " 'This is the first World Cup to be held in Eastern Europe and the 11th time that it has been held in Europe.',\n",
       " 'Show me the cheapest round trips from Dallas to Atlanta',\n",
       " 'I would like to see flights from Denver to Philadelphia.',\n",
       " 'Show me the price of the flights leaving Atlanta at about 3 in the afternoon and arriving in San Francisco.',\n",
       " 'NASA invited social media users to experience the launch of ICESAT-2 Satellite.']"
      ]
     },
     "execution_count": 32,
     "metadata": {},
     "output_type": "execute_result"
    }
   ],
   "source": [
    "f = open('Test_sentences.txt', \"r\")\n",
    "lines = f.readlines()\n",
    "f.close()\n",
    "\n",
    "test_sentences_lines =[sent.rstrip() for sent in lines if sent.rstrip()!='']\n",
    "test_sentences_lines"
   ]
  },
  {
   "cell_type": "code",
   "execution_count": 33,
   "metadata": {},
   "outputs": [
    {
     "data": {
      "text/plain": [
       "['Android', 'is', 'a', 'mobile', 'operating']"
      ]
     },
     "execution_count": 33,
     "metadata": {},
     "output_type": "execute_result"
    }
   ],
   "source": [
    "test_sentences_words=[test_sentences_tokens for line in test_sentences_lines for test_sentences_tokens in word_tokenize(line)]\n",
    "test_sentences_words[:5]"
   ]
  },
  {
   "cell_type": "code",
   "execution_count": 34,
   "metadata": {},
   "outputs": [
    {
     "data": {
      "text/plain": [
       "['FIFA',\n",
       " 'Android',\n",
       " 'contested',\n",
       " 'interact',\n",
       " 'personality',\n",
       " 'messages',\n",
       " 'Google',\n",
       " 'tournament',\n",
       " 'arriving',\n",
       " '2011',\n",
       " 'domineering',\n",
       " 'Satellite',\n",
       " '2015',\n",
       " 'firehose',\n",
       " '2018',\n",
       " 'invited',\n",
       " '21st',\n",
       " '2013',\n",
       " 'OS',\n",
       " 'NASA',\n",
       " 'worldwide',\n",
       " 'Cup',\n",
       " 'trips',\n",
       " 'tweets',\n",
       " 'online',\n",
       " 'Twitter',\n",
       " 'smartphones',\n",
       " 'ICESAT-2']"
      ]
     },
     "execution_count": 34,
     "metadata": {},
     "output_type": "execute_result"
    }
   ],
   "source": [
    "# Find the list of word in \"Test sentences.txt\" file which are not present in Universal Treebank Corpus (tokens Vocabulary)\n",
    "words_not_in_corpus = list(set(test_sentences_words) - set(tokens))\n",
    "words_not_in_corpus "
   ]
  },
  {
   "cell_type": "code",
   "execution_count": 35,
   "metadata": {
    "scrolled": true
   },
   "outputs": [
    {
     "data": {
      "text/plain": [
       "[('Android', 'DET'),\n",
       " ('is', 'VERB'),\n",
       " ('a', 'DET'),\n",
       " ('mobile', 'ADJ'),\n",
       " ('operating', 'NOUN'),\n",
       " ('system', 'NOUN'),\n",
       " ('developed', 'VERB'),\n",
       " ('by', 'ADP'),\n",
       " ('Google', 'DET'),\n",
       " ('.', '.'),\n",
       " ('Android', 'DET'),\n",
       " ('has', 'VERB'),\n",
       " ('been', 'VERB'),\n",
       " ('the', 'DET'),\n",
       " ('best-selling', 'ADJ'),\n",
       " ('OS', 'DET'),\n",
       " ('worldwide', 'DET'),\n",
       " ('on', 'ADP'),\n",
       " ('smartphones', 'DET'),\n",
       " ('since', 'ADP'),\n",
       " ('2011', 'DET'),\n",
       " ('and', 'CONJ'),\n",
       " ('on', 'ADP'),\n",
       " ('tablets', 'NOUN'),\n",
       " ('since', 'ADP'),\n",
       " ('2013', 'DET'),\n",
       " ('.', '.'),\n",
       " ('Google', 'DET'),\n",
       " ('and', 'CONJ'),\n",
       " ('Twitter', 'DET'),\n",
       " ('made', 'VERB'),\n",
       " ('a', 'DET'),\n",
       " ('deal', 'NOUN'),\n",
       " ('in', 'ADP'),\n",
       " ('2015', 'DET'),\n",
       " ('that', 'ADP'),\n",
       " ('gave', 'VERB'),\n",
       " ('Google', 'DET'),\n",
       " ('access', 'NOUN'),\n",
       " ('to', 'PRT'),\n",
       " ('Twitter', 'DET'),\n",
       " (\"'s\", 'VERB'),\n",
       " ('firehose', 'DET'),\n",
       " ('.', '.'),\n",
       " ('Twitter', 'DET'),\n",
       " ('is', 'VERB'),\n",
       " ('an', 'DET'),\n",
       " ('online', 'DET'),\n",
       " ('news', 'NOUN'),\n",
       " ('and', 'CONJ'),\n",
       " ('social', 'ADJ'),\n",
       " ('networking', 'NOUN'),\n",
       " ('service', 'NOUN'),\n",
       " ('on', 'ADP'),\n",
       " ('which', 'DET'),\n",
       " ('users', 'NOUN'),\n",
       " ('post', 'NOUN'),\n",
       " ('and', 'CONJ'),\n",
       " ('interact', 'DET'),\n",
       " ('with', 'ADP'),\n",
       " ('messages', 'DET'),\n",
       " ('known', 'VERB'),\n",
       " ('as', 'ADP'),\n",
       " ('tweets', 'DET'),\n",
       " ('.', '.'),\n",
       " ('Before', 'ADP'),\n",
       " ('entering', 'VERB'),\n",
       " ('politics', 'NOUN'),\n",
       " (',', '.'),\n",
       " ('Donald', 'NOUN'),\n",
       " ('Trump', 'NOUN'),\n",
       " ('was', 'VERB'),\n",
       " ('a', 'DET'),\n",
       " ('domineering', 'DET'),\n",
       " ('businessman', 'NOUN'),\n",
       " ('and', 'CONJ'),\n",
       " ('a', 'DET'),\n",
       " ('television', 'NOUN'),\n",
       " ('personality', 'DET'),\n",
       " ('.', '.'),\n",
       " ('The', 'DET'),\n",
       " ('2018', 'DET'),\n",
       " ('FIFA', 'DET'),\n",
       " ('World', 'NOUN'),\n",
       " ('Cup', 'DET'),\n",
       " ('is', 'VERB'),\n",
       " ('the', 'DET'),\n",
       " ('21st', 'DET'),\n",
       " ('FIFA', 'DET'),\n",
       " ('World', 'NOUN'),\n",
       " ('Cup', 'DET'),\n",
       " (',', '.'),\n",
       " ('an', 'DET'),\n",
       " ('international', 'ADJ'),\n",
       " ('football', 'NOUN'),\n",
       " ('tournament', 'DET'),\n",
       " ('contested', 'DET'),\n",
       " ('once', 'ADV'),\n",
       " ('every', 'DET'),\n",
       " ('four', 'NUM'),\n",
       " ('years', 'NOUN'),\n",
       " ('.', '.'),\n",
       " ('This', 'DET'),\n",
       " ('is', 'VERB'),\n",
       " ('the', 'DET'),\n",
       " ('first', 'ADJ'),\n",
       " ('World', 'NOUN'),\n",
       " ('Cup', 'DET'),\n",
       " ('to', 'PRT'),\n",
       " ('be', 'VERB'),\n",
       " ('held', 'VERB'),\n",
       " ('in', 'ADP'),\n",
       " ('Eastern', 'NOUN'),\n",
       " ('Europe', 'NOUN'),\n",
       " ('and', 'CONJ'),\n",
       " ('the', 'DET'),\n",
       " ('11th', 'ADJ'),\n",
       " ('time', 'NOUN'),\n",
       " ('that', 'ADP'),\n",
       " ('it', 'PRON'),\n",
       " ('has', 'VERB'),\n",
       " ('been', 'VERB'),\n",
       " ('held', 'VERB'),\n",
       " ('in', 'ADP'),\n",
       " ('Europe', 'NOUN'),\n",
       " ('.', '.'),\n",
       " ('Show', 'NOUN'),\n",
       " ('me', 'PRON'),\n",
       " ('the', 'DET'),\n",
       " ('cheapest', 'ADJ'),\n",
       " ('round', 'NOUN'),\n",
       " ('trips', 'DET'),\n",
       " ('from', 'ADP'),\n",
       " ('Dallas', 'NOUN'),\n",
       " ('to', 'PRT'),\n",
       " ('Atlanta', 'NOUN'),\n",
       " ('I', 'PRON'),\n",
       " ('would', 'VERB'),\n",
       " ('like', 'ADP'),\n",
       " ('to', 'PRT'),\n",
       " ('see', 'VERB'),\n",
       " ('flights', 'NOUN'),\n",
       " ('from', 'ADP'),\n",
       " ('Denver', 'NOUN'),\n",
       " ('to', 'PRT'),\n",
       " ('Philadelphia', 'NOUN'),\n",
       " ('.', '.'),\n",
       " ('Show', 'NOUN'),\n",
       " ('me', 'PRON'),\n",
       " ('the', 'DET'),\n",
       " ('price', 'NOUN'),\n",
       " ('of', 'ADP'),\n",
       " ('the', 'DET'),\n",
       " ('flights', 'NOUN'),\n",
       " ('leaving', 'VERB'),\n",
       " ('Atlanta', 'NOUN'),\n",
       " ('at', 'ADP'),\n",
       " ('about', 'ADP'),\n",
       " ('3', 'NUM'),\n",
       " ('in', 'ADP'),\n",
       " ('the', 'DET'),\n",
       " ('afternoon', 'NOUN'),\n",
       " ('and', 'CONJ'),\n",
       " ('arriving', 'DET'),\n",
       " ('in', 'ADP'),\n",
       " ('San', 'NOUN'),\n",
       " ('Francisco', 'NOUN'),\n",
       " ('.', '.'),\n",
       " ('NASA', 'DET'),\n",
       " ('invited', 'DET'),\n",
       " ('social', 'ADJ'),\n",
       " ('media', 'NOUN'),\n",
       " ('users', 'NOUN'),\n",
       " ('to', 'PRT'),\n",
       " ('experience', 'NOUN'),\n",
       " ('the', 'DET'),\n",
       " ('launch', 'NOUN'),\n",
       " ('of', 'ADP'),\n",
       " ('ICESAT-2', 'DET'),\n",
       " ('Satellite', 'DET'),\n",
       " ('.', '.')]"
      ]
     },
     "execution_count": 35,
     "metadata": {},
     "output_type": "execute_result"
    }
   ],
   "source": [
    "# Applying Viterbi algorithm on words from Test_sentences.txt file\n",
    "test_sentences_tagged =[]\n",
    "for line in test_sentences_lines:\n",
    "    test_sentences_tagged = test_sentences_tagged + list(Viterbi(word_tokenize(line)))\n",
    "test_sentences_tagged"
   ]
  },
  {
   "cell_type": "code",
   "execution_count": 36,
   "metadata": {},
   "outputs": [
    {
     "data": {
      "text/plain": [
       "[('Android', 'DET'),\n",
       " ('Google', 'DET'),\n",
       " ('Android', 'DET'),\n",
       " ('OS', 'DET'),\n",
       " ('worldwide', 'DET'),\n",
       " ('smartphones', 'DET'),\n",
       " ('2011', 'DET'),\n",
       " ('2013', 'DET'),\n",
       " ('Google', 'DET'),\n",
       " ('Twitter', 'DET'),\n",
       " ('2015', 'DET'),\n",
       " ('Google', 'DET'),\n",
       " ('Twitter', 'DET'),\n",
       " ('firehose', 'DET'),\n",
       " ('Twitter', 'DET'),\n",
       " ('online', 'DET'),\n",
       " ('interact', 'DET'),\n",
       " ('messages', 'DET'),\n",
       " ('tweets', 'DET'),\n",
       " ('domineering', 'DET'),\n",
       " ('personality', 'DET'),\n",
       " ('2018', 'DET'),\n",
       " ('FIFA', 'DET'),\n",
       " ('Cup', 'DET'),\n",
       " ('21st', 'DET'),\n",
       " ('FIFA', 'DET'),\n",
       " ('Cup', 'DET'),\n",
       " ('tournament', 'DET'),\n",
       " ('contested', 'DET'),\n",
       " ('Cup', 'DET'),\n",
       " ('trips', 'DET'),\n",
       " ('arriving', 'DET'),\n",
       " ('NASA', 'DET'),\n",
       " ('invited', 'DET'),\n",
       " ('ICESAT-2', 'DET'),\n",
       " ('Satellite', 'DET')]"
      ]
     },
     "execution_count": 36,
     "metadata": {},
     "output_type": "execute_result"
    }
   ],
   "source": [
    "# Get unknown words from Test_sentences.txt file, which is not available in universal corpus \n",
    "# and the wrong tags predicted by initial Viterbi Algorithm for those unknown words.\n",
    "[tup for tup in test_sentences_tagged for word in words_not_in_corpus if tup[0]==word ]"
   ]
  },
  {
   "cell_type": "markdown",
   "metadata": {},
   "source": [
    " "
   ]
  },
  {
   "cell_type": "markdown",
   "metadata": {},
   "source": [
    "# Solve the problem of unknown words"
   ]
  },
  {
   "cell_type": "markdown",
   "metadata": {},
   "source": [
    "### Viterbi algorithm modification to handle unknown words by using Lexicon Tagger and Rule Based Tagger"
   ]
  },
  {
   "cell_type": "markdown",
   "metadata": {},
   "source": [
    "# Technique 1\n",
    "#### Lexicon (Unigram) Tagger"
   ]
  },
  {
   "cell_type": "code",
   "execution_count": 37,
   "metadata": {},
   "outputs": [
    {
     "data": {
      "text/plain": [
       "0.904054054054054"
      ]
     },
     "execution_count": 37,
     "metadata": {},
     "output_type": "execute_result"
    }
   ],
   "source": [
    "# Lexicon (or unigram tagger)\n",
    "unigram_tagger = nltk.UnigramTagger(train_set)\n",
    "unigram_tagger.evaluate(test_set)"
   ]
  },
  {
   "cell_type": "markdown",
   "metadata": {},
   "source": [
    "#### Lexicon (BiGram) Tagger"
   ]
  },
  {
   "cell_type": "code",
   "execution_count": 38,
   "metadata": {},
   "outputs": [
    {
     "data": {
      "text/plain": [
       "0.211003861003861"
      ]
     },
     "execution_count": 38,
     "metadata": {},
     "output_type": "execute_result"
    }
   ],
   "source": [
    "# BiGram tagger\n",
    "bigram_tagger = nltk.BigramTagger(train_set)\n",
    "bigram_tagger.evaluate(test_set)"
   ]
  },
  {
   "cell_type": "markdown",
   "metadata": {},
   "source": [
    "# Technique 2\n",
    "#### Rule-Based (Regular Expression) Tagger "
   ]
  },
  {
   "cell_type": "code",
   "execution_count": 39,
   "metadata": {},
   "outputs": [],
   "source": [
    "# specify patterns for Rule based tagging\n",
    "# example from the NLTK book\n",
    "patterns = [\n",
    "    (r'.*ing$', 'VERB'),              # gerund\n",
    "    (r'.*ed$', 'VERB'),               # past tense verbs\n",
    "    (r'.*es$', 'VERB'),               # singular present verbs\n",
    "    (r'.*ould$', 'VERB'),              # modal verbs\n",
    "    (r'.*\\'s$', 'NOUN'),              # possessive nouns\n",
    "    (r'.*s$', 'NOUN'),                # plural nouns\n",
    "    (r'^-?[0-9]+(.[0-9]+)?$', 'NUM'), # cardinal numbers\n",
    "    (r'(The|the|A|a|An|an)$', 'DET'),   # articles or determinants\n",
    "    (r'.*able$', 'ADJ'),                # adjectives\n",
    "    (r'.*ness$', 'NOUN'),                # nouns formed from adjectives\n",
    "    (r'.*ly$', 'ADV'),                  # adverbs\n",
    "    (r'.*', 'NOUN')                    # nouns\n",
    "]"
   ]
  },
  {
   "cell_type": "code",
   "execution_count": 40,
   "metadata": {},
   "outputs": [],
   "source": [
    "rule_based_tagger = nltk.RegexpTagger(patterns) "
   ]
  },
  {
   "cell_type": "markdown",
   "metadata": {},
   "source": [
    "# Combining Technique 1 and Technique 2"
   ]
  },
  {
   "cell_type": "markdown",
   "metadata": {},
   "source": [
    "#### Creating lexicon_tagger (UniGram) backed up by the rule-based tagger"
   ]
  },
  {
   "cell_type": "code",
   "execution_count": 41,
   "metadata": {},
   "outputs": [],
   "source": [
    "# rule based tagger\n",
    "rule_based_tagger = nltk.RegexpTagger(patterns)\n",
    "\n",
    "# lexicon backed up by the rule-based tagger. Since Lexicon (Unigram) Tagger seems to perform fairly well.\n",
    "lexicon_tagger = nltk.UnigramTagger(train_set, backoff=rule_based_tagger)"
   ]
  },
  {
   "cell_type": "code",
   "execution_count": 42,
   "metadata": {},
   "outputs": [],
   "source": [
    "# Viterbi Algorithm to handle unknown words (Which has emission probability = zero)\n",
    "def Viterbi_Modified(words, train_bag = train_tagged_words):\n",
    "    state = []\n",
    "    T = list(set([pair[1] for pair in train_bag]))\n",
    "    \n",
    "    for key, word in enumerate(words):\n",
    "        #initialise list of probability column for a given observation\n",
    "        p = [] \n",
    "        for tag in T:\n",
    "            if key == 0:\n",
    "                transition_p = tags_df.loc['.', tag]\n",
    "            else:\n",
    "                transition_p = tags_df.loc[state[-1], tag]\n",
    "                \n",
    "            # compute emission and state probabilities\n",
    "            emission_p = word_given_tag(words[key], tag)[0]/word_given_tag(words[key], tag)[1]\n",
    "            state_probability = emission_p * transition_p    \n",
    "            p.append(state_probability)\n",
    "            \n",
    "            \n",
    "        pmax = max(p)\n",
    "        state_max = T[p.index(pmax)] \n",
    "        \n",
    "        # Handling unknown words, by using lexicon_tagger which is backed up by rule_based_tagger\n",
    "        if(pmax==0):\n",
    "            state_max = lexicon_tagger.tag([word])[0][1]\n",
    "        else:\n",
    "            state_max = T[p.index(pmax)] \n",
    "            \n",
    "        state.append(state_max)\n",
    "    return list(zip(words, state))\n"
   ]
  },
  {
   "cell_type": "markdown",
   "metadata": {},
   "source": [
    "### Evaluating tagging accuracy - On Test_sentences.txt"
   ]
  },
  {
   "cell_type": "code",
   "execution_count": 43,
   "metadata": {
    "scrolled": true
   },
   "outputs": [
    {
     "data": {
      "text/plain": [
       "[('Android', 'NOUN'),\n",
       " ('Google', 'NOUN'),\n",
       " ('Android', 'NOUN'),\n",
       " ('OS', 'NOUN'),\n",
       " ('worldwide', 'NOUN'),\n",
       " ('smartphones', 'VERB'),\n",
       " ('2011', 'NUM'),\n",
       " ('2013', 'NUM'),\n",
       " ('Google', 'NOUN'),\n",
       " ('Twitter', 'NOUN'),\n",
       " ('2015', 'NUM'),\n",
       " ('Google', 'NOUN'),\n",
       " ('Twitter', 'NOUN'),\n",
       " ('firehose', 'NOUN'),\n",
       " ('Twitter', 'NOUN'),\n",
       " ('online', 'NOUN'),\n",
       " ('interact', 'NOUN'),\n",
       " ('messages', 'VERB'),\n",
       " ('tweets', 'NOUN'),\n",
       " ('domineering', 'VERB'),\n",
       " ('personality', 'NOUN'),\n",
       " ('2018', 'NUM'),\n",
       " ('FIFA', 'NOUN'),\n",
       " ('Cup', 'NOUN'),\n",
       " ('21st', 'NOUN'),\n",
       " ('FIFA', 'NOUN'),\n",
       " ('Cup', 'NOUN'),\n",
       " ('tournament', 'NOUN'),\n",
       " ('contested', 'VERB'),\n",
       " ('Cup', 'NOUN'),\n",
       " ('trips', 'NOUN'),\n",
       " ('arriving', 'VERB'),\n",
       " ('NASA', 'NOUN'),\n",
       " ('invited', 'VERB'),\n",
       " ('ICESAT-2', 'NOUN'),\n",
       " ('Satellite', 'NOUN')]"
      ]
     },
     "execution_count": 43,
     "metadata": {},
     "output_type": "execute_result"
    }
   ],
   "source": [
    "# Get the new tags for sentences in \"Test sentences.txt\" using the new modified Viterbi algorithm\n",
    "test_sentences_tagged =[]\n",
    "for line in test_sentences_lines:\n",
    "    test_sentences_tagged = test_sentences_tagged + list( Viterbi_Modified(word_tokenize(line)) )\n",
    "test_sentences_tagged\n",
    "\n",
    "# Display the new tags for the unknown words which was present in \"Test sentences.txt\"\n",
    "[tup for tup in test_sentences_tagged for word in words_not_in_corpus if tup[0]==word ]"
   ]
  },
  {
   "cell_type": "markdown",
   "metadata": {},
   "source": [
    "## Evaluating tagging accuracy (On Test_Set data)"
   ]
  },
  {
   "cell_type": "code",
   "execution_count": 44,
   "metadata": {},
   "outputs": [
    {
     "name": "stdout",
     "output_type": "stream",
     "text": [
      "Time taken in seconds:  40.340768337249756\n"
     ]
    }
   ],
   "source": [
    "# Tagging the test_set data sentences using Modified Viterbi Algorithm \n",
    "start = time.time()\n",
    "tagged_seq_Modified = Viterbi_Modified(test_tagged_words)\n",
    "end = time.time()\n",
    "difference = end-start\n",
    "print(\"Time taken in seconds: \", difference)"
   ]
  },
  {
   "cell_type": "code",
   "execution_count": 45,
   "metadata": {},
   "outputs": [
    {
     "name": "stdout",
     "output_type": "stream",
     "text": [
      "Modified Viterbi Algorithm Accuracy:  91.21621621621621\n"
     ]
    }
   ],
   "source": [
    "# Modified Viterbi Algorithm Accuracy\n",
    "check_Modified = [i for i, j in zip(tagged_seq_Modified, test_run_base) if i == j] \n",
    "\n",
    "Viterbi_Modified_Accuracy_on_TEST_SET = len(check_Modified)/len(tagged_seq_Modified)\n",
    "\n",
    "print('Modified Viterbi Algorithm Accuracy: ', Viterbi_Modified_Accuracy_on_TEST_SET*100)"
   ]
  },
  {
   "cell_type": "code",
   "execution_count": 46,
   "metadata": {
    "scrolled": false
   },
   "outputs": [
    {
     "data": {
      "text/plain": [
       "[(('two-letter', 'NOUN'), ('two-letter', 'ADJ')),\n",
       " (('consonant', 'NOUN'), ('consonant', 'ADJ')),\n",
       " (('sounds', 'VERB'), ('sounds', 'NOUN')),\n",
       " (('sounds', 'VERB'), ('sounds', 'NOUN')),\n",
       " (('to', 'PRT'), ('to', 'ADP')),\n",
       " (('sounds', 'VERB'), ('sounds', 'NOUN')),\n",
       " (('distant', 'NOUN'), ('distant', 'ADJ')),\n",
       " (('wound', 'NOUN'), ('wound', 'VERB')),\n",
       " (('amend', 'NOUN'), ('amend', 'VERB')),\n",
       " (('delete', 'NOUN'), ('delete', 'VERB')),\n",
       " (('book', 'NOUN'), ('book', 'VERB')),\n",
       " (('stocks', 'NOUN'), ('stocks', 'ADV')),\n",
       " (('up', 'PRT'), ('up', 'ADP'))]"
      ]
     },
     "execution_count": 46,
     "metadata": {},
     "output_type": "execute_result"
    }
   ],
   "source": [
    "# let's check the incorrectly tagged words\n",
    "[j for i, j in enumerate(zip(tagged_seq_Modified, test_run_base)) if j[0] != j[1]]"
   ]
  },
  {
   "cell_type": "markdown",
   "metadata": {},
   "source": [
    "## Compare the tagging accuracies of the modifications with the vanilla Viterbi algorithm"
   ]
  },
  {
   "cell_type": "markdown",
   "metadata": {},
   "source": [
    "##### Original vanilla Viterbi algorithm Accuracy"
   ]
  },
  {
   "cell_type": "code",
   "execution_count": 47,
   "metadata": {},
   "outputs": [
    {
     "name": "stdout",
     "output_type": "stream",
     "text": [
      "Original Viterbi Algorithm Accuracy:  88.51  %\n"
     ]
    }
   ],
   "source": [
    "# Original Viterbi Algorithm Accuracy\n",
    "print('Original Viterbi Algorithm Accuracy: ', round(Viterbi_Initial_Accuracy_on_TEST_SET *100,2) , \" %\")"
   ]
  },
  {
   "cell_type": "markdown",
   "metadata": {},
   "source": [
    "##### Modified Vanilla Viterbi algorithm Accuracy : Combining lexicon_tagger (UniGram) backed up by the rule-based tagger"
   ]
  },
  {
   "cell_type": "code",
   "execution_count": 48,
   "metadata": {},
   "outputs": [
    {
     "name": "stdout",
     "output_type": "stream",
     "text": [
      "Modified Viterbi Algorithm Accuracy:  91.22  %\n"
     ]
    }
   ],
   "source": [
    "print('Modified Viterbi Algorithm Accuracy: ', round(Viterbi_Modified_Accuracy_on_TEST_SET*100,2) , \" %\")"
   ]
  },
  {
   "cell_type": "code",
   "execution_count": 49,
   "metadata": {},
   "outputs": [],
   "source": [
    "Accuracy_Increase = round(Viterbi_Modified_Accuracy_on_TEST_SET*100 - Viterbi_Initial_Accuracy_on_TEST_SET*100,2) "
   ]
  },
  {
   "cell_type": "code",
   "execution_count": 50,
   "metadata": {},
   "outputs": [
    {
     "name": "stdout",
     "output_type": "stream",
     "text": [
      "\u001b[1mAccuracy has increased by Accuracy_Increase by 2.7 %\n"
     ]
    }
   ],
   "source": [
    "print('\\033[1m' + 'Accuracy has increased by Accuracy_Increase by ' + str(Accuracy_Increase) + ' %')"
   ]
  },
  {
   "cell_type": "markdown",
   "metadata": {},
   "source": [
    " "
   ]
  },
  {
   "cell_type": "code",
   "execution_count": 51,
   "metadata": {
    "scrolled": true
   },
   "outputs": [
    {
     "data": {
      "text/plain": [
       "[('Android', 'NOUN'),\n",
       " ('Google', 'NOUN'),\n",
       " ('Android', 'NOUN'),\n",
       " ('OS', 'NOUN'),\n",
       " ('worldwide', 'NOUN'),\n",
       " ('smartphones', 'VERB'),\n",
       " ('2011', 'NUM'),\n",
       " ('2013', 'NUM'),\n",
       " ('Google', 'NOUN'),\n",
       " ('Twitter', 'NOUN'),\n",
       " ('2015', 'NUM'),\n",
       " ('Google', 'NOUN'),\n",
       " ('Twitter', 'NOUN'),\n",
       " ('firehose', 'NOUN'),\n",
       " ('Twitter', 'NOUN'),\n",
       " ('online', 'NOUN'),\n",
       " ('interact', 'NOUN'),\n",
       " ('messages', 'VERB'),\n",
       " ('tweets', 'NOUN'),\n",
       " ('domineering', 'VERB'),\n",
       " ('personality', 'NOUN'),\n",
       " ('2018', 'NUM'),\n",
       " ('FIFA', 'NOUN'),\n",
       " ('Cup', 'NOUN'),\n",
       " ('21st', 'NOUN'),\n",
       " ('FIFA', 'NOUN'),\n",
       " ('Cup', 'NOUN'),\n",
       " ('tournament', 'NOUN'),\n",
       " ('contested', 'VERB'),\n",
       " ('Cup', 'NOUN'),\n",
       " ('trips', 'NOUN'),\n",
       " ('arriving', 'VERB'),\n",
       " ('NASA', 'NOUN'),\n",
       " ('invited', 'VERB'),\n",
       " ('ICESAT-2', 'NOUN'),\n",
       " ('Satellite', 'NOUN')]"
      ]
     },
     "execution_count": 51,
     "metadata": {},
     "output_type": "execute_result"
    }
   ],
   "source": [
    "# Display the new tags for the unknown words which was present in \"Test sentences.txt\"\n",
    "[tup for tup in test_sentences_tagged for word in words_not_in_corpus if tup[0]==word ]"
   ]
  },
  {
   "cell_type": "markdown",
   "metadata": {},
   "source": [
    "## List down cases which were incorrectly tagged by original POS tagger and got corrected by your modifications"
   ]
  },
  {
   "cell_type": "markdown",
   "metadata": {},
   "source": [
    " "
   ]
  },
  {
   "cell_type": "markdown",
   "metadata": {},
   "source": [
    "### From Test_sentences.txt, Un-known words are identified correctly \n",
    "##### Android, Google, Android, FIFA, NASA are identified as NOUN correctly\n",
    "##### 2011, 2013, 2015 are identified as NUM\n",
    "##### domineering, contested, arriving are identified as VERB\n",
    "# -------------------------------------------------------------------\n",
    "### From test_set, words are identified correctly \n",
    "##### Zayed has been properly tagged as NOUN\n",
    "##### T-143 has been properly tagged as X\n",
    "##### newest has been properly tagged as ADJ\n",
    "##### accompany has been properly tagged as VERB\n",
    "##### plan has been properly tagged as VERB\n",
    "##### sweepstakes has been properly tagged as NOUN\n",
    "# -------------------------------------------------------------------"
   ]
  },
  {
   "cell_type": "code",
   "execution_count": null,
   "metadata": {},
   "outputs": [],
   "source": []
  }
 ],
 "metadata": {
  "kernelspec": {
   "display_name": "Python 3",
   "language": "python",
   "name": "python3"
  },
  "language_info": {
   "codemirror_mode": {
    "name": "ipython",
    "version": 3
   },
   "file_extension": ".py",
   "mimetype": "text/x-python",
   "name": "python",
   "nbconvert_exporter": "python",
   "pygments_lexer": "ipython3",
   "version": "3.6.6"
  }
 },
 "nbformat": 4,
 "nbformat_minor": 2
}
