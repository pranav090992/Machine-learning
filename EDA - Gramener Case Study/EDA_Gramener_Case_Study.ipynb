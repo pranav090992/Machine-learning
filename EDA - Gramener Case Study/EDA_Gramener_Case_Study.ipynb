{
 "cells": [
  {
   "cell_type": "code",
   "execution_count": 107,
   "metadata": {},
   "outputs": [],
   "source": [
    "# import required libraries\n",
    "import pandas as pd\n",
    "import matplotlib.pyplot as plt\n",
    "import seaborn as sns"
   ]
  },
  {
   "cell_type": "code",
   "execution_count": 2,
   "metadata": {},
   "outputs": [],
   "source": [
    "# read loan.csv\n",
    "loan = pd.read_csv(\"loan.csv\", sep=\",\", encoding = 'ISO-8859-1',low_memory=False)"
   ]
  },
  {
   "cell_type": "code",
   "execution_count": 3,
   "metadata": {},
   "outputs": [
    {
     "data": {
      "text/plain": [
       "39717"
      ]
     },
     "execution_count": 3,
     "metadata": {},
     "output_type": "execute_result"
    }
   ],
   "source": [
    "# total records\n",
    "len(loan)"
   ]
  },
  {
   "cell_type": "code",
   "execution_count": 4,
   "metadata": {},
   "outputs": [
    {
     "data": {
      "text/plain": [
       "111"
      ]
     },
     "execution_count": 4,
     "metadata": {},
     "output_type": "execute_result"
    }
   ],
   "source": [
    "# total columns\n",
    "len(loan.columns)"
   ]
  },
  {
   "cell_type": "code",
   "execution_count": 5,
   "metadata": {},
   "outputs": [
    {
     "data": {
      "text/html": [
       "<div>\n",
       "<style scoped>\n",
       "    .dataframe tbody tr th:only-of-type {\n",
       "        vertical-align: middle;\n",
       "    }\n",
       "\n",
       "    .dataframe tbody tr th {\n",
       "        vertical-align: top;\n",
       "    }\n",
       "\n",
       "    .dataframe thead th {\n",
       "        text-align: right;\n",
       "    }\n",
       "</style>\n",
       "<table border=\"1\" class=\"dataframe\">\n",
       "  <thead>\n",
       "    <tr style=\"text-align: right;\">\n",
       "      <th></th>\n",
       "      <th>id</th>\n",
       "      <th>member_id</th>\n",
       "      <th>loan_amnt</th>\n",
       "      <th>funded_amnt</th>\n",
       "      <th>funded_amnt_inv</th>\n",
       "      <th>term</th>\n",
       "      <th>int_rate</th>\n",
       "      <th>installment</th>\n",
       "      <th>grade</th>\n",
       "      <th>sub_grade</th>\n",
       "      <th>...</th>\n",
       "      <th>num_tl_90g_dpd_24m</th>\n",
       "      <th>num_tl_op_past_12m</th>\n",
       "      <th>pct_tl_nvr_dlq</th>\n",
       "      <th>percent_bc_gt_75</th>\n",
       "      <th>pub_rec_bankruptcies</th>\n",
       "      <th>tax_liens</th>\n",
       "      <th>tot_hi_cred_lim</th>\n",
       "      <th>total_bal_ex_mort</th>\n",
       "      <th>total_bc_limit</th>\n",
       "      <th>total_il_high_credit_limit</th>\n",
       "    </tr>\n",
       "    <tr>\n",
       "      <th>loan_status</th>\n",
       "      <th></th>\n",
       "      <th></th>\n",
       "      <th></th>\n",
       "      <th></th>\n",
       "      <th></th>\n",
       "      <th></th>\n",
       "      <th></th>\n",
       "      <th></th>\n",
       "      <th></th>\n",
       "      <th></th>\n",
       "      <th></th>\n",
       "      <th></th>\n",
       "      <th></th>\n",
       "      <th></th>\n",
       "      <th></th>\n",
       "      <th></th>\n",
       "      <th></th>\n",
       "      <th></th>\n",
       "      <th></th>\n",
       "      <th></th>\n",
       "      <th></th>\n",
       "    </tr>\n",
       "  </thead>\n",
       "  <tbody>\n",
       "    <tr>\n",
       "      <th>Charged Off</th>\n",
       "      <td>5627</td>\n",
       "      <td>5627</td>\n",
       "      <td>5627</td>\n",
       "      <td>5627</td>\n",
       "      <td>5627</td>\n",
       "      <td>5627</td>\n",
       "      <td>5627</td>\n",
       "      <td>5627</td>\n",
       "      <td>5627</td>\n",
       "      <td>5627</td>\n",
       "      <td>...</td>\n",
       "      <td>0</td>\n",
       "      <td>0</td>\n",
       "      <td>0</td>\n",
       "      <td>0</td>\n",
       "      <td>5509</td>\n",
       "      <td>5626</td>\n",
       "      <td>0</td>\n",
       "      <td>0</td>\n",
       "      <td>0</td>\n",
       "      <td>0</td>\n",
       "    </tr>\n",
       "    <tr>\n",
       "      <th>Current</th>\n",
       "      <td>1140</td>\n",
       "      <td>1140</td>\n",
       "      <td>1140</td>\n",
       "      <td>1140</td>\n",
       "      <td>1140</td>\n",
       "      <td>1140</td>\n",
       "      <td>1140</td>\n",
       "      <td>1140</td>\n",
       "      <td>1140</td>\n",
       "      <td>1140</td>\n",
       "      <td>...</td>\n",
       "      <td>0</td>\n",
       "      <td>0</td>\n",
       "      <td>0</td>\n",
       "      <td>0</td>\n",
       "      <td>1140</td>\n",
       "      <td>1140</td>\n",
       "      <td>0</td>\n",
       "      <td>0</td>\n",
       "      <td>0</td>\n",
       "      <td>0</td>\n",
       "    </tr>\n",
       "    <tr>\n",
       "      <th>Fully Paid</th>\n",
       "      <td>32950</td>\n",
       "      <td>32950</td>\n",
       "      <td>32950</td>\n",
       "      <td>32950</td>\n",
       "      <td>32950</td>\n",
       "      <td>32950</td>\n",
       "      <td>32950</td>\n",
       "      <td>32950</td>\n",
       "      <td>32950</td>\n",
       "      <td>32950</td>\n",
       "      <td>...</td>\n",
       "      <td>0</td>\n",
       "      <td>0</td>\n",
       "      <td>0</td>\n",
       "      <td>0</td>\n",
       "      <td>32371</td>\n",
       "      <td>32912</td>\n",
       "      <td>0</td>\n",
       "      <td>0</td>\n",
       "      <td>0</td>\n",
       "      <td>0</td>\n",
       "    </tr>\n",
       "  </tbody>\n",
       "</table>\n",
       "<p>3 rows × 110 columns</p>\n",
       "</div>"
      ],
      "text/plain": [
       "                id  member_id  loan_amnt  funded_amnt  funded_amnt_inv   term  \\\n",
       "loan_status                                                                     \n",
       "Charged Off   5627       5627       5627         5627             5627   5627   \n",
       "Current       1140       1140       1140         1140             1140   1140   \n",
       "Fully Paid   32950      32950      32950        32950            32950  32950   \n",
       "\n",
       "             int_rate  installment  grade  sub_grade  \\\n",
       "loan_status                                            \n",
       "Charged Off      5627         5627   5627       5627   \n",
       "Current          1140         1140   1140       1140   \n",
       "Fully Paid      32950        32950  32950      32950   \n",
       "\n",
       "                        ...              num_tl_90g_dpd_24m  \\\n",
       "loan_status             ...                                   \n",
       "Charged Off             ...                               0   \n",
       "Current                 ...                               0   \n",
       "Fully Paid              ...                               0   \n",
       "\n",
       "             num_tl_op_past_12m  pct_tl_nvr_dlq  percent_bc_gt_75  \\\n",
       "loan_status                                                         \n",
       "Charged Off                   0               0                 0   \n",
       "Current                       0               0                 0   \n",
       "Fully Paid                    0               0                 0   \n",
       "\n",
       "             pub_rec_bankruptcies  tax_liens  tot_hi_cred_lim  \\\n",
       "loan_status                                                     \n",
       "Charged Off                  5509       5626                0   \n",
       "Current                      1140       1140                0   \n",
       "Fully Paid                  32371      32912                0   \n",
       "\n",
       "             total_bal_ex_mort  total_bc_limit  total_il_high_credit_limit  \n",
       "loan_status                                                                 \n",
       "Charged Off                  0               0                           0  \n",
       "Current                      0               0                           0  \n",
       "Fully Paid                   0               0                           0  \n",
       "\n",
       "[3 rows x 110 columns]"
      ]
     },
     "execution_count": 5,
     "metadata": {},
     "output_type": "execute_result"
    }
   ],
   "source": [
    "# group by loan status\n",
    "loan.groupby(\"loan_status\").count()"
   ]
  },
  {
   "cell_type": "code",
   "execution_count": 6,
   "metadata": {},
   "outputs": [],
   "source": [
    "# columns with more than 50% of columns is empty\n",
    "insufficient_columns = (loan.isnull().sum() * 100 / len(loan) >= 50)"
   ]
  },
  {
   "cell_type": "code",
   "execution_count": 7,
   "metadata": {},
   "outputs": [],
   "source": [
    "# columns to be removed which are invalid\n",
    "columns_tobe_removed = loan.columns[insufficient_columns]"
   ]
  },
  {
   "cell_type": "code",
   "execution_count": 8,
   "metadata": {},
   "outputs": [],
   "source": [
    "# records with atleast 50% of data is present\n",
    "loan = loan.drop(columns_tobe_removed, axis=1)"
   ]
  },
  {
   "cell_type": "code",
   "execution_count": 9,
   "metadata": {},
   "outputs": [
    {
     "data": {
      "text/plain": [
       "54"
      ]
     },
     "execution_count": 9,
     "metadata": {},
     "output_type": "execute_result"
    }
   ],
   "source": [
    "# columns after removing columns with insufficient data\n",
    "len(loan.columns)"
   ]
  },
  {
   "cell_type": "code",
   "execution_count": 10,
   "metadata": {},
   "outputs": [],
   "source": [
    "# remove the records where loan is still pending\n",
    "loan = loan[loan['loan_status'] != 'Current']"
   ]
  },
  {
   "cell_type": "code",
   "execution_count": 11,
   "metadata": {},
   "outputs": [
    {
     "data": {
      "text/plain": [
       "38577"
      ]
     },
     "execution_count": 11,
     "metadata": {},
     "output_type": "execute_result"
    }
   ],
   "source": [
    "len(loan)"
   ]
  },
  {
   "cell_type": "code",
   "execution_count": 12,
   "metadata": {},
   "outputs": [
    {
     "data": {
      "text/html": [
       "<div>\n",
       "<style scoped>\n",
       "    .dataframe tbody tr th:only-of-type {\n",
       "        vertical-align: middle;\n",
       "    }\n",
       "\n",
       "    .dataframe tbody tr th {\n",
       "        vertical-align: top;\n",
       "    }\n",
       "\n",
       "    .dataframe thead th {\n",
       "        text-align: right;\n",
       "    }\n",
       "</style>\n",
       "<table border=\"1\" class=\"dataframe\">\n",
       "  <thead>\n",
       "    <tr style=\"text-align: right;\">\n",
       "      <th></th>\n",
       "      <th>id</th>\n",
       "      <th>member_id</th>\n",
       "      <th>loan_amnt</th>\n",
       "      <th>funded_amnt</th>\n",
       "      <th>funded_amnt_inv</th>\n",
       "      <th>term</th>\n",
       "      <th>int_rate</th>\n",
       "      <th>installment</th>\n",
       "      <th>grade</th>\n",
       "      <th>sub_grade</th>\n",
       "      <th>...</th>\n",
       "      <th>last_pymnt_amnt</th>\n",
       "      <th>last_credit_pull_d</th>\n",
       "      <th>collections_12_mths_ex_med</th>\n",
       "      <th>policy_code</th>\n",
       "      <th>application_type</th>\n",
       "      <th>acc_now_delinq</th>\n",
       "      <th>chargeoff_within_12_mths</th>\n",
       "      <th>delinq_amnt</th>\n",
       "      <th>pub_rec_bankruptcies</th>\n",
       "      <th>tax_liens</th>\n",
       "    </tr>\n",
       "    <tr>\n",
       "      <th>loan_status</th>\n",
       "      <th></th>\n",
       "      <th></th>\n",
       "      <th></th>\n",
       "      <th></th>\n",
       "      <th></th>\n",
       "      <th></th>\n",
       "      <th></th>\n",
       "      <th></th>\n",
       "      <th></th>\n",
       "      <th></th>\n",
       "      <th></th>\n",
       "      <th></th>\n",
       "      <th></th>\n",
       "      <th></th>\n",
       "      <th></th>\n",
       "      <th></th>\n",
       "      <th></th>\n",
       "      <th></th>\n",
       "      <th></th>\n",
       "      <th></th>\n",
       "      <th></th>\n",
       "    </tr>\n",
       "  </thead>\n",
       "  <tbody>\n",
       "    <tr>\n",
       "      <th>Charged Off</th>\n",
       "      <td>5627</td>\n",
       "      <td>5627</td>\n",
       "      <td>5627</td>\n",
       "      <td>5627</td>\n",
       "      <td>5627</td>\n",
       "      <td>5627</td>\n",
       "      <td>5627</td>\n",
       "      <td>5627</td>\n",
       "      <td>5627</td>\n",
       "      <td>5627</td>\n",
       "      <td>...</td>\n",
       "      <td>5627</td>\n",
       "      <td>5626</td>\n",
       "      <td>5621</td>\n",
       "      <td>5627</td>\n",
       "      <td>5627</td>\n",
       "      <td>5627</td>\n",
       "      <td>5621</td>\n",
       "      <td>5627</td>\n",
       "      <td>5509</td>\n",
       "      <td>5626</td>\n",
       "    </tr>\n",
       "    <tr>\n",
       "      <th>Fully Paid</th>\n",
       "      <td>32950</td>\n",
       "      <td>32950</td>\n",
       "      <td>32950</td>\n",
       "      <td>32950</td>\n",
       "      <td>32950</td>\n",
       "      <td>32950</td>\n",
       "      <td>32950</td>\n",
       "      <td>32950</td>\n",
       "      <td>32950</td>\n",
       "      <td>32950</td>\n",
       "      <td>...</td>\n",
       "      <td>32950</td>\n",
       "      <td>32949</td>\n",
       "      <td>32900</td>\n",
       "      <td>32950</td>\n",
       "      <td>32950</td>\n",
       "      <td>32950</td>\n",
       "      <td>32900</td>\n",
       "      <td>32950</td>\n",
       "      <td>32371</td>\n",
       "      <td>32912</td>\n",
       "    </tr>\n",
       "  </tbody>\n",
       "</table>\n",
       "<p>2 rows × 53 columns</p>\n",
       "</div>"
      ],
      "text/plain": [
       "                id  member_id  loan_amnt  funded_amnt  funded_amnt_inv   term  \\\n",
       "loan_status                                                                     \n",
       "Charged Off   5627       5627       5627         5627             5627   5627   \n",
       "Fully Paid   32950      32950      32950        32950            32950  32950   \n",
       "\n",
       "             int_rate  installment  grade  sub_grade    ...      \\\n",
       "loan_status                                             ...       \n",
       "Charged Off      5627         5627   5627       5627    ...       \n",
       "Fully Paid      32950        32950  32950      32950    ...       \n",
       "\n",
       "             last_pymnt_amnt  last_credit_pull_d  collections_12_mths_ex_med  \\\n",
       "loan_status                                                                    \n",
       "Charged Off             5627                5626                        5621   \n",
       "Fully Paid             32950               32949                       32900   \n",
       "\n",
       "             policy_code  application_type  acc_now_delinq  \\\n",
       "loan_status                                                  \n",
       "Charged Off         5627              5627            5627   \n",
       "Fully Paid         32950             32950           32950   \n",
       "\n",
       "             chargeoff_within_12_mths  delinq_amnt  pub_rec_bankruptcies  \\\n",
       "loan_status                                                                \n",
       "Charged Off                      5621         5627                  5509   \n",
       "Fully Paid                      32900        32950                 32371   \n",
       "\n",
       "             tax_liens  \n",
       "loan_status             \n",
       "Charged Off       5626  \n",
       "Fully Paid       32912  \n",
       "\n",
       "[2 rows x 53 columns]"
      ]
     },
     "execution_count": 12,
     "metadata": {},
     "output_type": "execute_result"
    }
   ],
   "source": [
    "# group by loan status\n",
    "loan.groupby(\"loan_status\").count()"
   ]
  },
  {
   "cell_type": "code",
   "execution_count": 74,
   "metadata": {},
   "outputs": [],
   "source": [
    "# new column default, 1 if defaulted 0 if fully paid\n",
    "loan[\"default\"] = loan['loan_status'].apply(lambda x : 0 if x == \"Fully Paid\" else 1)\n",
    "\n"
   ]
  },
  {
   "cell_type": "code",
   "execution_count": 76,
   "metadata": {},
   "outputs": [
    {
     "data": {
      "text/plain": [
       "count    38577.000000\n",
       "mean     11047.025430\n",
       "std       7348.441646\n",
       "min        500.000000\n",
       "25%       5300.000000\n",
       "50%       9600.000000\n",
       "75%      15000.000000\n",
       "max      35000.000000\n",
       "Name: loan_amnt, dtype: float64"
      ]
     },
     "execution_count": 76,
     "metadata": {},
     "output_type": "execute_result"
    }
   ],
   "source": [
    "# defaulted count\n",
    "loan[\"loan_amnt\"].describe()"
   ]
  },
  {
   "cell_type": "code",
   "execution_count": 86,
   "metadata": {},
   "outputs": [],
   "source": [
    "# loan amount category\n",
    "# very los; upto 5000\n",
    "# low; from 5000 to 10000\n",
    "# medium; from 10000 to 20000\n",
    "# high; from 20000 to 30000\n",
    "# very high; above 30000\n",
    "def loan_amount_category(loan_amount):\n",
    "    if loan_amount <= 5000:\n",
    "        return \"very_low\"\n",
    "    elif loan_amount <= 10000:\n",
    "        return \"low\"\n",
    "    elif loan_amount <= 20000:\n",
    "        return \"medium\"\n",
    "    elif loan_amount <= 30000:\n",
    "        return \"high\"\n",
    "    else:\n",
    "        return \"very_high\"\n",
    "\n",
    "loan['loan_amount_category'] = loan['loan_amnt'].apply(loan_amount_category)"
   ]
  },
  {
   "cell_type": "code",
   "execution_count": 87,
   "metadata": {},
   "outputs": [
    {
     "data": {
      "text/html": [
       "<div>\n",
       "<style scoped>\n",
       "    .dataframe tbody tr th:only-of-type {\n",
       "        vertical-align: middle;\n",
       "    }\n",
       "\n",
       "    .dataframe tbody tr th {\n",
       "        vertical-align: top;\n",
       "    }\n",
       "\n",
       "    .dataframe thead th {\n",
       "        text-align: right;\n",
       "    }\n",
       "</style>\n",
       "<table border=\"1\" class=\"dataframe\">\n",
       "  <thead>\n",
       "    <tr style=\"text-align: right;\">\n",
       "      <th></th>\n",
       "      <th>id</th>\n",
       "      <th>member_id</th>\n",
       "      <th>loan_amnt</th>\n",
       "      <th>funded_amnt</th>\n",
       "      <th>funded_amnt_inv</th>\n",
       "      <th>term</th>\n",
       "      <th>int_rate</th>\n",
       "      <th>installment</th>\n",
       "      <th>grade</th>\n",
       "      <th>sub_grade</th>\n",
       "      <th>...</th>\n",
       "      <th>application_type</th>\n",
       "      <th>acc_now_delinq</th>\n",
       "      <th>chargeoff_within_12_mths</th>\n",
       "      <th>delinq_amnt</th>\n",
       "      <th>pub_rec_bankruptcies</th>\n",
       "      <th>tax_liens</th>\n",
       "      <th>default</th>\n",
       "      <th>int_rate_num</th>\n",
       "      <th>interest_rate_category</th>\n",
       "      <th>income_category</th>\n",
       "    </tr>\n",
       "    <tr>\n",
       "      <th>loan_amount_category</th>\n",
       "      <th></th>\n",
       "      <th></th>\n",
       "      <th></th>\n",
       "      <th></th>\n",
       "      <th></th>\n",
       "      <th></th>\n",
       "      <th></th>\n",
       "      <th></th>\n",
       "      <th></th>\n",
       "      <th></th>\n",
       "      <th></th>\n",
       "      <th></th>\n",
       "      <th></th>\n",
       "      <th></th>\n",
       "      <th></th>\n",
       "      <th></th>\n",
       "      <th></th>\n",
       "      <th></th>\n",
       "      <th></th>\n",
       "      <th></th>\n",
       "      <th></th>\n",
       "    </tr>\n",
       "  </thead>\n",
       "  <tbody>\n",
       "    <tr>\n",
       "      <th>high</th>\n",
       "      <td>3536</td>\n",
       "      <td>3536</td>\n",
       "      <td>3536</td>\n",
       "      <td>3536</td>\n",
       "      <td>3536</td>\n",
       "      <td>3536</td>\n",
       "      <td>3536</td>\n",
       "      <td>3536</td>\n",
       "      <td>3536</td>\n",
       "      <td>3536</td>\n",
       "      <td>...</td>\n",
       "      <td>3536</td>\n",
       "      <td>3536</td>\n",
       "      <td>3535</td>\n",
       "      <td>3536</td>\n",
       "      <td>3483</td>\n",
       "      <td>3535</td>\n",
       "      <td>3536</td>\n",
       "      <td>3536</td>\n",
       "      <td>3536</td>\n",
       "      <td>3536</td>\n",
       "    </tr>\n",
       "    <tr>\n",
       "      <th>low</th>\n",
       "      <td>12802</td>\n",
       "      <td>12802</td>\n",
       "      <td>12802</td>\n",
       "      <td>12802</td>\n",
       "      <td>12802</td>\n",
       "      <td>12802</td>\n",
       "      <td>12802</td>\n",
       "      <td>12802</td>\n",
       "      <td>12802</td>\n",
       "      <td>12802</td>\n",
       "      <td>...</td>\n",
       "      <td>12802</td>\n",
       "      <td>12802</td>\n",
       "      <td>12789</td>\n",
       "      <td>12802</td>\n",
       "      <td>12554</td>\n",
       "      <td>12793</td>\n",
       "      <td>12802</td>\n",
       "      <td>12802</td>\n",
       "      <td>12802</td>\n",
       "      <td>12802</td>\n",
       "    </tr>\n",
       "    <tr>\n",
       "      <th>medium</th>\n",
       "      <td>12032</td>\n",
       "      <td>12032</td>\n",
       "      <td>12032</td>\n",
       "      <td>12032</td>\n",
       "      <td>12032</td>\n",
       "      <td>12032</td>\n",
       "      <td>12032</td>\n",
       "      <td>12032</td>\n",
       "      <td>12032</td>\n",
       "      <td>12032</td>\n",
       "      <td>...</td>\n",
       "      <td>12032</td>\n",
       "      <td>12032</td>\n",
       "      <td>12027</td>\n",
       "      <td>12032</td>\n",
       "      <td>11835</td>\n",
       "      <td>12029</td>\n",
       "      <td>12032</td>\n",
       "      <td>12032</td>\n",
       "      <td>12032</td>\n",
       "      <td>12032</td>\n",
       "    </tr>\n",
       "    <tr>\n",
       "      <th>very_high</th>\n",
       "      <td>735</td>\n",
       "      <td>735</td>\n",
       "      <td>735</td>\n",
       "      <td>735</td>\n",
       "      <td>735</td>\n",
       "      <td>735</td>\n",
       "      <td>735</td>\n",
       "      <td>735</td>\n",
       "      <td>735</td>\n",
       "      <td>735</td>\n",
       "      <td>...</td>\n",
       "      <td>735</td>\n",
       "      <td>735</td>\n",
       "      <td>735</td>\n",
       "      <td>735</td>\n",
       "      <td>735</td>\n",
       "      <td>735</td>\n",
       "      <td>735</td>\n",
       "      <td>735</td>\n",
       "      <td>735</td>\n",
       "      <td>735</td>\n",
       "    </tr>\n",
       "    <tr>\n",
       "      <th>very_low</th>\n",
       "      <td>9472</td>\n",
       "      <td>9472</td>\n",
       "      <td>9472</td>\n",
       "      <td>9472</td>\n",
       "      <td>9472</td>\n",
       "      <td>9472</td>\n",
       "      <td>9472</td>\n",
       "      <td>9472</td>\n",
       "      <td>9472</td>\n",
       "      <td>9472</td>\n",
       "      <td>...</td>\n",
       "      <td>9472</td>\n",
       "      <td>9472</td>\n",
       "      <td>9435</td>\n",
       "      <td>9472</td>\n",
       "      <td>9273</td>\n",
       "      <td>9446</td>\n",
       "      <td>9472</td>\n",
       "      <td>9472</td>\n",
       "      <td>9472</td>\n",
       "      <td>9472</td>\n",
       "    </tr>\n",
       "  </tbody>\n",
       "</table>\n",
       "<p>5 rows × 58 columns</p>\n",
       "</div>"
      ],
      "text/plain": [
       "                         id  member_id  loan_amnt  funded_amnt  \\\n",
       "loan_amount_category                                             \n",
       "high                   3536       3536       3536         3536   \n",
       "low                   12802      12802      12802        12802   \n",
       "medium                12032      12032      12032        12032   \n",
       "very_high               735        735        735          735   \n",
       "very_low               9472       9472       9472         9472   \n",
       "\n",
       "                      funded_amnt_inv   term  int_rate  installment  grade  \\\n",
       "loan_amount_category                                                         \n",
       "high                             3536   3536      3536         3536   3536   \n",
       "low                             12802  12802     12802        12802  12802   \n",
       "medium                          12032  12032     12032        12032  12032   \n",
       "very_high                         735    735       735          735    735   \n",
       "very_low                         9472   9472      9472         9472   9472   \n",
       "\n",
       "                      sub_grade       ...         application_type  \\\n",
       "loan_amount_category                  ...                            \n",
       "high                       3536       ...                     3536   \n",
       "low                       12802       ...                    12802   \n",
       "medium                    12032       ...                    12032   \n",
       "very_high                   735       ...                      735   \n",
       "very_low                   9472       ...                     9472   \n",
       "\n",
       "                      acc_now_delinq  chargeoff_within_12_mths  delinq_amnt  \\\n",
       "loan_amount_category                                                          \n",
       "high                            3536                      3535         3536   \n",
       "low                            12802                     12789        12802   \n",
       "medium                         12032                     12027        12032   \n",
       "very_high                        735                       735          735   \n",
       "very_low                        9472                      9435         9472   \n",
       "\n",
       "                      pub_rec_bankruptcies  tax_liens  default  int_rate_num  \\\n",
       "loan_amount_category                                                           \n",
       "high                                  3483       3535     3536          3536   \n",
       "low                                  12554      12793    12802         12802   \n",
       "medium                               11835      12029    12032         12032   \n",
       "very_high                              735        735      735           735   \n",
       "very_low                              9273       9446     9472          9472   \n",
       "\n",
       "                      interest_rate_category  income_category  \n",
       "loan_amount_category                                           \n",
       "high                                    3536             3536  \n",
       "low                                    12802            12802  \n",
       "medium                                 12032            12032  \n",
       "very_high                                735              735  \n",
       "very_low                                9472             9472  \n",
       "\n",
       "[5 rows x 58 columns]"
      ]
     },
     "execution_count": 87,
     "metadata": {},
     "output_type": "execute_result"
    }
   ],
   "source": [
    "# groupb by loan_amount_category\n",
    "loan.groupby(\"loan_amount_category\").count()"
   ]
  },
  {
   "cell_type": "code",
   "execution_count": 88,
   "metadata": {},
   "outputs": [
    {
     "data": {
      "image/png": "[encoded data removed]",
      "text/plain": [
       "<Figure size 432x288 with 1 Axes>"
      ]
     },
     "metadata": {},
     "output_type": "display_data"
    }
   ],
   "source": [
    "# graph with loan_amount_category with default\n",
    "sns.barplot(x='loan_amount_category', y='default', data=loan)\n",
    "plt.show()"
   ]
  },
  {
   "cell_type": "code",
   "execution_count": 23,
   "metadata": {},
   "outputs": [
    {
     "data": {
      "text/plain": [
       "loan_amount_category\n",
       "medium    0.131657\n",
       "low       0.138725\n",
       "high      0.187471\n",
       "Name: default, dtype: float64"
      ]
     },
     "execution_count": 23,
     "metadata": {},
     "output_type": "execute_result"
    }
   ],
   "source": [
    "# loan with higher amount has more chance of default\n",
    "(loan.groupby(\"loan_amount_category\")['default'].sum()/ loan.groupby(\"loan_amount_category\")['default'].count()).sort_values()"
   ]
  },
  {
   "cell_type": "code",
   "execution_count": 24,
   "metadata": {},
   "outputs": [
    {
     "data": {
      "image/png": "[encoded data removed]",
      "text/plain": [
       "<Figure size 432x288 with 1 Axes>"
      ]
     },
     "metadata": {},
     "output_type": "display_data"
    }
   ],
   "source": [
    "# graph of grade vs default count\n",
    "sns.barplot(x='grade', y='default', data=loan)\n",
    "plt.show()"
   ]
  },
  {
   "cell_type": "code",
   "execution_count": 25,
   "metadata": {},
   "outputs": [
    {
     "data": {
      "text/plain": [
       "grade\n",
       "A    0.059930\n",
       "B    0.122056\n",
       "C    0.171943\n",
       "D    0.219862\n",
       "E    0.268494\n",
       "F    0.326844\n",
       "G    0.337793\n",
       "Name: default, dtype: float64"
      ]
     },
     "execution_count": 25,
     "metadata": {},
     "output_type": "execute_result"
    }
   ],
   "source": [
    "# record with grade A has least chance of default and G with high chance of default\n",
    "# in the order of grade G > F > E > D > C > B > A\n",
    "(loan.groupby(['grade'])['default'].sum() / loan.groupby(['grade'])['default'].count()).sort_values()"
   ]
  },
  {
   "cell_type": "code",
   "execution_count": 26,
   "metadata": {
    "scrolled": false
   },
   "outputs": [
    {
     "data": {
      "image/png": "[encoded data removed]",
      "text/plain": [
       "<Figure size 1440x720 with 1 Axes>"
      ]
     },
     "metadata": {},
     "output_type": "display_data"
    }
   ],
   "source": [
    "# graph of subgrade vs default\n",
    "plt.figure(figsize=(20,10))\n",
    "sns.barplot(x='sub_grade', y='default', data=loan)\n",
    "plt.show()"
   ]
  },
  {
   "cell_type": "code",
   "execution_count": 27,
   "metadata": {},
   "outputs": [
    {
     "data": {
      "text/plain": [
       "sub_grade\n",
       "A1    0.026339\n",
       "A2    0.049072\n",
       "A3    0.056906\n",
       "A4    0.061956\n",
       "A5    0.079926\n",
       "B1    0.095159\n",
       "B2    0.113943\n",
       "B3    0.120708\n",
       "B4    0.135002\n",
       "B5    0.136138\n",
       "C1    0.163504\n",
       "C2    0.166235\n",
       "C4    0.175788\n",
       "D1    0.179377\n",
       "C5    0.180243\n",
       "C3    0.181452\n",
       "D2    0.210731\n",
       "D3    0.229391\n",
       "E3    0.230620\n",
       "D4    0.234205\n",
       "G4    0.240741\n",
       "D5    0.250600\n",
       "E2    0.265472\n",
       "E1    0.274238\n",
       "E5    0.281654\n",
       "F3    0.293103\n",
       "E4    0.297170\n",
       "F1    0.298361\n",
       "F2    0.300429\n",
       "G1    0.329787\n",
       "G5    0.344828\n",
       "F4    0.350993\n",
       "G2    0.363636\n",
       "G3    0.422222\n",
       "F5    0.477876\n",
       "Name: default, dtype: float64"
      ]
     },
     "execution_count": 27,
     "metadata": {},
     "output_type": "execute_result"
    }
   ],
   "source": [
    "# record with grade A1 has least chance of default and F5 with high chance of default\n",
    "(loan.groupby(['sub_grade'])['default'].sum() / loan.groupby(['sub_grade'])['default'].count()).sort_values()"
   ]
  },
  {
   "cell_type": "code",
   "execution_count": 28,
   "metadata": {},
   "outputs": [],
   "source": [
    "# clean average interest rate\n",
    "loan[\"int_rate_num\"] = loan[\"int_rate\"].apply(lambda x : pd.to_numeric(x.split(\"%\")[0]))"
   ]
  },
  {
   "cell_type": "code",
   "execution_count": 29,
   "metadata": {},
   "outputs": [
    {
     "name": "stdout",
     "output_type": "stream",
     "text": [
      "11.93221867952407\n",
      "11.71\n",
      "5.42\n",
      "24.4\n"
     ]
    }
   ],
   "source": [
    "# mean, median min and max of interest rates\n",
    "print(loan[\"int_rate_num\"].mean())\n",
    "print(loan[\"int_rate_num\"].median())\n",
    "print(loan[\"int_rate_num\"].min())\n",
    "print(loan[\"int_rate_num\"].max())"
   ]
  },
  {
   "cell_type": "code",
   "execution_count": 30,
   "metadata": {},
   "outputs": [],
   "source": [
    "# interest rate category\n",
    "# low; upto 8\n",
    "# medium; from 8 to 16\n",
    "# high; above 16\n",
    "def interest_rate_category(rate):\n",
    "    if rate <= 8:\n",
    "        return \"low\"\n",
    "    elif rate <= 16:\n",
    "        return \"medium\"\n",
    "    else:\n",
    "        return \"high\"\n",
    "\n",
    "loan['interest_rate_category'] = loan['int_rate_num'].apply(interest_rate_category)"
   ]
  },
  {
   "cell_type": "code",
   "execution_count": 31,
   "metadata": {},
   "outputs": [
    {
     "data": {
      "text/html": [
       "<div>\n",
       "<style scoped>\n",
       "    .dataframe tbody tr th:only-of-type {\n",
       "        vertical-align: middle;\n",
       "    }\n",
       "\n",
       "    .dataframe tbody tr th {\n",
       "        vertical-align: top;\n",
       "    }\n",
       "\n",
       "    .dataframe thead th {\n",
       "        text-align: right;\n",
       "    }\n",
       "</style>\n",
       "<table border=\"1\" class=\"dataframe\">\n",
       "  <thead>\n",
       "    <tr style=\"text-align: right;\">\n",
       "      <th></th>\n",
       "      <th>id</th>\n",
       "      <th>member_id</th>\n",
       "      <th>loan_amnt</th>\n",
       "      <th>funded_amnt</th>\n",
       "      <th>funded_amnt_inv</th>\n",
       "      <th>term</th>\n",
       "      <th>int_rate</th>\n",
       "      <th>installment</th>\n",
       "      <th>grade</th>\n",
       "      <th>sub_grade</th>\n",
       "      <th>...</th>\n",
       "      <th>policy_code</th>\n",
       "      <th>application_type</th>\n",
       "      <th>acc_now_delinq</th>\n",
       "      <th>chargeoff_within_12_mths</th>\n",
       "      <th>delinq_amnt</th>\n",
       "      <th>pub_rec_bankruptcies</th>\n",
       "      <th>tax_liens</th>\n",
       "      <th>default</th>\n",
       "      <th>loan_amount_category</th>\n",
       "      <th>int_rate_num</th>\n",
       "    </tr>\n",
       "    <tr>\n",
       "      <th>interest_rate_category</th>\n",
       "      <th></th>\n",
       "      <th></th>\n",
       "      <th></th>\n",
       "      <th></th>\n",
       "      <th></th>\n",
       "      <th></th>\n",
       "      <th></th>\n",
       "      <th></th>\n",
       "      <th></th>\n",
       "      <th></th>\n",
       "      <th></th>\n",
       "      <th></th>\n",
       "      <th></th>\n",
       "      <th></th>\n",
       "      <th></th>\n",
       "      <th></th>\n",
       "      <th></th>\n",
       "      <th></th>\n",
       "      <th></th>\n",
       "      <th></th>\n",
       "      <th></th>\n",
       "    </tr>\n",
       "  </thead>\n",
       "  <tbody>\n",
       "    <tr>\n",
       "      <th>high</th>\n",
       "      <td>5408</td>\n",
       "      <td>5408</td>\n",
       "      <td>5408</td>\n",
       "      <td>5408</td>\n",
       "      <td>5408</td>\n",
       "      <td>5408</td>\n",
       "      <td>5408</td>\n",
       "      <td>5408</td>\n",
       "      <td>5408</td>\n",
       "      <td>5408</td>\n",
       "      <td>...</td>\n",
       "      <td>5408</td>\n",
       "      <td>5408</td>\n",
       "      <td>5408</td>\n",
       "      <td>5408</td>\n",
       "      <td>5408</td>\n",
       "      <td>5401</td>\n",
       "      <td>5408</td>\n",
       "      <td>5408</td>\n",
       "      <td>5408</td>\n",
       "      <td>5408</td>\n",
       "    </tr>\n",
       "    <tr>\n",
       "      <th>low</th>\n",
       "      <td>8218</td>\n",
       "      <td>8218</td>\n",
       "      <td>8218</td>\n",
       "      <td>8218</td>\n",
       "      <td>8218</td>\n",
       "      <td>8218</td>\n",
       "      <td>8218</td>\n",
       "      <td>8218</td>\n",
       "      <td>8218</td>\n",
       "      <td>8218</td>\n",
       "      <td>...</td>\n",
       "      <td>8218</td>\n",
       "      <td>8218</td>\n",
       "      <td>8218</td>\n",
       "      <td>8204</td>\n",
       "      <td>8218</td>\n",
       "      <td>8137</td>\n",
       "      <td>8207</td>\n",
       "      <td>8218</td>\n",
       "      <td>8218</td>\n",
       "      <td>8218</td>\n",
       "    </tr>\n",
       "    <tr>\n",
       "      <th>medium</th>\n",
       "      <td>24951</td>\n",
       "      <td>24951</td>\n",
       "      <td>24951</td>\n",
       "      <td>24951</td>\n",
       "      <td>24951</td>\n",
       "      <td>24951</td>\n",
       "      <td>24951</td>\n",
       "      <td>24951</td>\n",
       "      <td>24951</td>\n",
       "      <td>24951</td>\n",
       "      <td>...</td>\n",
       "      <td>24951</td>\n",
       "      <td>24951</td>\n",
       "      <td>24951</td>\n",
       "      <td>24909</td>\n",
       "      <td>24951</td>\n",
       "      <td>24342</td>\n",
       "      <td>24923</td>\n",
       "      <td>24951</td>\n",
       "      <td>24951</td>\n",
       "      <td>24951</td>\n",
       "    </tr>\n",
       "  </tbody>\n",
       "</table>\n",
       "<p>3 rows × 57 columns</p>\n",
       "</div>"
      ],
      "text/plain": [
       "                           id  member_id  loan_amnt  funded_amnt  \\\n",
       "interest_rate_category                                             \n",
       "high                     5408       5408       5408         5408   \n",
       "low                      8218       8218       8218         8218   \n",
       "medium                  24951      24951      24951        24951   \n",
       "\n",
       "                        funded_amnt_inv   term  int_rate  installment  grade  \\\n",
       "interest_rate_category                                                         \n",
       "high                               5408   5408      5408         5408   5408   \n",
       "low                                8218   8218      8218         8218   8218   \n",
       "medium                            24951  24951     24951        24951  24951   \n",
       "\n",
       "                        sub_grade      ...       policy_code  \\\n",
       "interest_rate_category                 ...                     \n",
       "high                         5408      ...              5408   \n",
       "low                          8218      ...              8218   \n",
       "medium                      24951      ...             24951   \n",
       "\n",
       "                        application_type  acc_now_delinq  \\\n",
       "interest_rate_category                                     \n",
       "high                                5408            5408   \n",
       "low                                 8218            8218   \n",
       "medium                             24951           24951   \n",
       "\n",
       "                        chargeoff_within_12_mths  delinq_amnt  \\\n",
       "interest_rate_category                                          \n",
       "high                                        5408         5408   \n",
       "low                                         8204         8218   \n",
       "medium                                     24909        24951   \n",
       "\n",
       "                        pub_rec_bankruptcies  tax_liens  default  \\\n",
       "interest_rate_category                                             \n",
       "high                                    5401       5408     5408   \n",
       "low                                     8137       8207     8218   \n",
       "medium                                 24342      24923    24951   \n",
       "\n",
       "                        loan_amount_category  int_rate_num  \n",
       "interest_rate_category                                      \n",
       "high                                    5408          5408  \n",
       "low                                     8218          8218  \n",
       "medium                                 24951         24951  \n",
       "\n",
       "[3 rows x 57 columns]"
      ]
     },
     "execution_count": 31,
     "metadata": {},
     "output_type": "execute_result"
    }
   ],
   "source": [
    "loan.groupby('interest_rate_category').count()"
   ]
  },
  {
   "cell_type": "code",
   "execution_count": 32,
   "metadata": {},
   "outputs": [
    {
     "data": {
      "image/png": "[encoded data removed]",
      "text/plain": [
       "<Figure size 432x288 with 1 Axes>"
      ]
     },
     "metadata": {},
     "output_type": "display_data"
    }
   ],
   "source": [
    "# graph of interest_rate_category vs default count\n",
    "sns.barplot(x='interest_rate_category', y='default', data=loan)\n",
    "plt.show()"
   ]
  },
  {
   "cell_type": "code",
   "execution_count": 33,
   "metadata": {},
   "outputs": [
    {
     "data": {
      "text/plain": [
       "interest_rate_category\n",
       "low       0.053541\n",
       "medium    0.145285\n",
       "high      0.288831\n",
       "Name: default, dtype: float64"
      ]
     },
     "execution_count": 33,
     "metadata": {},
     "output_type": "execute_result"
    }
   ],
   "source": [
    "# loan with higher interest rate has higher chance of default.\n",
    "\n",
    "(loan.groupby(['interest_rate_category'])['default'].sum() / loan.groupby(['interest_rate_category'])['default'].count()).sort_values()"
   ]
  },
  {
   "cell_type": "code",
   "execution_count": 34,
   "metadata": {},
   "outputs": [
    {
     "data": {
      "text/html": [
       "<div>\n",
       "<style scoped>\n",
       "    .dataframe tbody tr th:only-of-type {\n",
       "        vertical-align: middle;\n",
       "    }\n",
       "\n",
       "    .dataframe tbody tr th {\n",
       "        vertical-align: top;\n",
       "    }\n",
       "\n",
       "    .dataframe thead th {\n",
       "        text-align: right;\n",
       "    }\n",
       "</style>\n",
       "<table border=\"1\" class=\"dataframe\">\n",
       "  <thead>\n",
       "    <tr style=\"text-align: right;\">\n",
       "      <th></th>\n",
       "      <th>id</th>\n",
       "      <th>member_id</th>\n",
       "      <th>loan_amnt</th>\n",
       "      <th>funded_amnt</th>\n",
       "      <th>funded_amnt_inv</th>\n",
       "      <th>term</th>\n",
       "      <th>int_rate</th>\n",
       "      <th>installment</th>\n",
       "      <th>grade</th>\n",
       "      <th>sub_grade</th>\n",
       "      <th>...</th>\n",
       "      <th>application_type</th>\n",
       "      <th>acc_now_delinq</th>\n",
       "      <th>chargeoff_within_12_mths</th>\n",
       "      <th>delinq_amnt</th>\n",
       "      <th>pub_rec_bankruptcies</th>\n",
       "      <th>tax_liens</th>\n",
       "      <th>default</th>\n",
       "      <th>loan_amount_category</th>\n",
       "      <th>int_rate_num</th>\n",
       "      <th>interest_rate_category</th>\n",
       "    </tr>\n",
       "    <tr>\n",
       "      <th>verification_status</th>\n",
       "      <th></th>\n",
       "      <th></th>\n",
       "      <th></th>\n",
       "      <th></th>\n",
       "      <th></th>\n",
       "      <th></th>\n",
       "      <th></th>\n",
       "      <th></th>\n",
       "      <th></th>\n",
       "      <th></th>\n",
       "      <th></th>\n",
       "      <th></th>\n",
       "      <th></th>\n",
       "      <th></th>\n",
       "      <th></th>\n",
       "      <th></th>\n",
       "      <th></th>\n",
       "      <th></th>\n",
       "      <th></th>\n",
       "      <th></th>\n",
       "      <th></th>\n",
       "    </tr>\n",
       "  </thead>\n",
       "  <tbody>\n",
       "    <tr>\n",
       "      <th>Not Verified</th>\n",
       "      <td>16694</td>\n",
       "      <td>16694</td>\n",
       "      <td>16694</td>\n",
       "      <td>16694</td>\n",
       "      <td>16694</td>\n",
       "      <td>16694</td>\n",
       "      <td>16694</td>\n",
       "      <td>16694</td>\n",
       "      <td>16694</td>\n",
       "      <td>16694</td>\n",
       "      <td>...</td>\n",
       "      <td>16694</td>\n",
       "      <td>16694</td>\n",
       "      <td>16638</td>\n",
       "      <td>16694</td>\n",
       "      <td>15998</td>\n",
       "      <td>16655</td>\n",
       "      <td>16694</td>\n",
       "      <td>16694</td>\n",
       "      <td>16694</td>\n",
       "      <td>16694</td>\n",
       "    </tr>\n",
       "    <tr>\n",
       "      <th>Source Verified</th>\n",
       "      <td>9677</td>\n",
       "      <td>9677</td>\n",
       "      <td>9677</td>\n",
       "      <td>9677</td>\n",
       "      <td>9677</td>\n",
       "      <td>9677</td>\n",
       "      <td>9677</td>\n",
       "      <td>9677</td>\n",
       "      <td>9677</td>\n",
       "      <td>9677</td>\n",
       "      <td>...</td>\n",
       "      <td>9677</td>\n",
       "      <td>9677</td>\n",
       "      <td>9677</td>\n",
       "      <td>9677</td>\n",
       "      <td>9677</td>\n",
       "      <td>9677</td>\n",
       "      <td>9677</td>\n",
       "      <td>9677</td>\n",
       "      <td>9677</td>\n",
       "      <td>9677</td>\n",
       "    </tr>\n",
       "    <tr>\n",
       "      <th>Verified</th>\n",
       "      <td>12206</td>\n",
       "      <td>12206</td>\n",
       "      <td>12206</td>\n",
       "      <td>12206</td>\n",
       "      <td>12206</td>\n",
       "      <td>12206</td>\n",
       "      <td>12206</td>\n",
       "      <td>12206</td>\n",
       "      <td>12206</td>\n",
       "      <td>12206</td>\n",
       "      <td>...</td>\n",
       "      <td>12206</td>\n",
       "      <td>12206</td>\n",
       "      <td>12206</td>\n",
       "      <td>12206</td>\n",
       "      <td>12205</td>\n",
       "      <td>12206</td>\n",
       "      <td>12206</td>\n",
       "      <td>12206</td>\n",
       "      <td>12206</td>\n",
       "      <td>12206</td>\n",
       "    </tr>\n",
       "  </tbody>\n",
       "</table>\n",
       "<p>3 rows × 57 columns</p>\n",
       "</div>"
      ],
      "text/plain": [
       "                        id  member_id  loan_amnt  funded_amnt  \\\n",
       "verification_status                                             \n",
       "Not Verified         16694      16694      16694        16694   \n",
       "Source Verified       9677       9677       9677         9677   \n",
       "Verified             12206      12206      12206        12206   \n",
       "\n",
       "                     funded_amnt_inv   term  int_rate  installment  grade  \\\n",
       "verification_status                                                         \n",
       "Not Verified                   16694  16694     16694        16694  16694   \n",
       "Source Verified                 9677   9677      9677         9677   9677   \n",
       "Verified                       12206  12206     12206        12206  12206   \n",
       "\n",
       "                     sub_grade           ...            application_type  \\\n",
       "verification_status                      ...                               \n",
       "Not Verified             16694           ...                       16694   \n",
       "Source Verified           9677           ...                        9677   \n",
       "Verified                 12206           ...                       12206   \n",
       "\n",
       "                     acc_now_delinq  chargeoff_within_12_mths  delinq_amnt  \\\n",
       "verification_status                                                          \n",
       "Not Verified                  16694                     16638        16694   \n",
       "Source Verified                9677                      9677         9677   \n",
       "Verified                      12206                     12206        12206   \n",
       "\n",
       "                     pub_rec_bankruptcies  tax_liens  default  \\\n",
       "verification_status                                             \n",
       "Not Verified                        15998      16655    16694   \n",
       "Source Verified                      9677       9677     9677   \n",
       "Verified                            12205      12206    12206   \n",
       "\n",
       "                     loan_amount_category  int_rate_num  \\\n",
       "verification_status                                       \n",
       "Not Verified                        16694         16694   \n",
       "Source Verified                      9677          9677   \n",
       "Verified                            12206         12206   \n",
       "\n",
       "                     interest_rate_category  \n",
       "verification_status                          \n",
       "Not Verified                          16694  \n",
       "Source Verified                        9677  \n",
       "Verified                              12206  \n",
       "\n",
       "[3 rows x 57 columns]"
      ]
     },
     "execution_count": 34,
     "metadata": {},
     "output_type": "execute_result"
    }
   ],
   "source": [
    "# by verification status\n",
    "loan.groupby(\"verification_status\").count()"
   ]
  },
  {
   "cell_type": "code",
   "execution_count": 35,
   "metadata": {},
   "outputs": [
    {
     "data": {
      "image/png": "[encoded data removed]",
      "text/plain": [
       "<Figure size 432x288 with 1 Axes>"
      ]
     },
     "metadata": {},
     "output_type": "display_data"
    }
   ],
   "source": [
    " sns.barplot(x='verification_status', y='default', data=loan)\n",
    "plt.show()"
   ]
  },
  {
   "cell_type": "code",
   "execution_count": 36,
   "metadata": {},
   "outputs": [],
   "source": [
    "# verifid records have higher chance of default"
   ]
  },
  {
   "cell_type": "code",
   "execution_count": 37,
   "metadata": {},
   "outputs": [
    {
     "name": "stdout",
     "output_type": "stream",
     "text": [
      "68777.97368120901\n",
      "58868.0\n",
      "4000.0\n",
      "6000000.0\n"
     ]
    }
   ],
   "source": [
    "# by income category\n",
    "# mean median min and max of income\n",
    "print(loan[\"annual_inc\"].mean())\n",
    "print(loan[\"annual_inc\"].median())\n",
    "print(loan[\"annual_inc\"].min())\n",
    "print(loan[\"annual_inc\"].max())"
   ]
  },
  {
   "cell_type": "code",
   "execution_count": 38,
   "metadata": {},
   "outputs": [],
   "source": [
    "# income category\n",
    "# low; upto 45000\n",
    "# medium; from 45000 to 75000\n",
    "# high; above 75000\n",
    "def income_category(rate):\n",
    "    if rate <= 45000:\n",
    "        return \"low\"\n",
    "    elif rate <= 75000:\n",
    "        return \"medium\"\n",
    "    else:\n",
    "        return \"high\"\n",
    "    \n",
    "loan['income_category'] = loan['annual_inc'].apply(income_category)"
   ]
  },
  {
   "cell_type": "code",
   "execution_count": 39,
   "metadata": {},
   "outputs": [
    {
     "data": {
      "image/png": "[encoded data removed]",
      "text/plain": [
       "<Figure size 432x288 with 1 Axes>"
      ]
     },
     "metadata": {},
     "output_type": "display_data"
    }
   ],
   "source": [
    "sns.barplot(x='income_category', y='default', data=loan)\n",
    "plt.show()"
   ]
  },
  {
   "cell_type": "code",
   "execution_count": 40,
   "metadata": {},
   "outputs": [],
   "source": [
    "# higher income has less chance of default."
   ]
  },
  {
   "cell_type": "code",
   "execution_count": 41,
   "metadata": {},
   "outputs": [
    {
     "name": "stdout",
     "output_type": "stream",
     "text": [
      "purpose\n",
      "debt_consolidation    18055\n",
      "credit_card            5027\n",
      "other                  3865\n",
      "home_improvement       2875\n",
      "major_purchase         2150\n",
      "small_business         1754\n",
      "car                    1499\n",
      "wedding                 926\n",
      "medical                 681\n",
      "moving                  576\n",
      "vacation                375\n",
      "house                   367\n",
      "educational             325\n",
      "renewable_energy        102\n",
      "Name: id, dtype: int64\n"
     ]
    }
   ],
   "source": [
    "# by purpose\n",
    "loan_by_purpose = loan.groupby(\"purpose\").count()['id'].sort_values(ascending=False)\n",
    "print(loan_by_purpose)"
   ]
  },
  {
   "cell_type": "code",
   "execution_count": 42,
   "metadata": {},
   "outputs": [
    {
     "data": {
      "text/plain": [
       "purpose\n",
       "debt_consolidation    18055\n",
       "credit_card            5027\n",
       "other                  3865\n",
       "home_improvement       2875\n",
       "major_purchase         2150\n",
       "Name: id, dtype: int64"
      ]
     },
     "execution_count": 42,
     "metadata": {},
     "output_type": "execute_result"
    }
   ],
   "source": [
    "top_purpose = loan_by_purpose.index[0:5]\n",
    "top_purpose_loan = loan[loan['purpose'].isin(top_purpose)]\n",
    "top_purpose_loan.groupby('purpose').count()['id'].sort_values(ascending=False)"
   ]
  },
  {
   "cell_type": "code",
   "execution_count": 43,
   "metadata": {},
   "outputs": [
    {
     "data": {
      "image/png": "[encoded data removed]",
      "text/plain": [
       "<Figure size 1440x720 with 1 Axes>"
      ]
     },
     "metadata": {},
     "output_type": "display_data"
    }
   ],
   "source": [
    "# loan by tenure and purpose\n",
    "\n",
    "plt.figure(figsize=[20, 10])\n",
    "sns.barplot(x='term',hue='purpose', y=\"default\", data=top_purpose_loan)\n",
    "plt.show()"
   ]
  },
  {
   "cell_type": "code",
   "execution_count": 44,
   "metadata": {},
   "outputs": [],
   "source": [
    "# loan with 60 months tenure has higher chance of default.\n",
    "# and loan for debt_consolidation has higher chances of default in both 36 month and 60 month tenure.\n"
   ]
  },
  {
   "cell_type": "code",
   "execution_count": 45,
   "metadata": {},
   "outputs": [
    {
     "data": {
      "text/html": [
       "<div>\n",
       "<style scoped>\n",
       "    .dataframe tbody tr th:only-of-type {\n",
       "        vertical-align: middle;\n",
       "    }\n",
       "\n",
       "    .dataframe tbody tr th {\n",
       "        vertical-align: top;\n",
       "    }\n",
       "\n",
       "    .dataframe thead th {\n",
       "        text-align: right;\n",
       "    }\n",
       "</style>\n",
       "<table border=\"1\" class=\"dataframe\">\n",
       "  <thead>\n",
       "    <tr style=\"text-align: right;\">\n",
       "      <th></th>\n",
       "      <th>id</th>\n",
       "      <th>member_id</th>\n",
       "      <th>loan_amnt</th>\n",
       "      <th>funded_amnt</th>\n",
       "      <th>funded_amnt_inv</th>\n",
       "      <th>term</th>\n",
       "      <th>int_rate</th>\n",
       "      <th>installment</th>\n",
       "      <th>grade</th>\n",
       "      <th>sub_grade</th>\n",
       "      <th>...</th>\n",
       "      <th>acc_now_delinq</th>\n",
       "      <th>chargeoff_within_12_mths</th>\n",
       "      <th>delinq_amnt</th>\n",
       "      <th>pub_rec_bankruptcies</th>\n",
       "      <th>tax_liens</th>\n",
       "      <th>default</th>\n",
       "      <th>loan_amount_category</th>\n",
       "      <th>int_rate_num</th>\n",
       "      <th>interest_rate_category</th>\n",
       "      <th>income_category</th>\n",
       "    </tr>\n",
       "    <tr>\n",
       "      <th>home_ownership</th>\n",
       "      <th></th>\n",
       "      <th></th>\n",
       "      <th></th>\n",
       "      <th></th>\n",
       "      <th></th>\n",
       "      <th></th>\n",
       "      <th></th>\n",
       "      <th></th>\n",
       "      <th></th>\n",
       "      <th></th>\n",
       "      <th></th>\n",
       "      <th></th>\n",
       "      <th></th>\n",
       "      <th></th>\n",
       "      <th></th>\n",
       "      <th></th>\n",
       "      <th></th>\n",
       "      <th></th>\n",
       "      <th></th>\n",
       "      <th></th>\n",
       "      <th></th>\n",
       "    </tr>\n",
       "  </thead>\n",
       "  <tbody>\n",
       "    <tr>\n",
       "      <th>MORTGAGE</th>\n",
       "      <td>17021</td>\n",
       "      <td>17021</td>\n",
       "      <td>17021</td>\n",
       "      <td>17021</td>\n",
       "      <td>17021</td>\n",
       "      <td>17021</td>\n",
       "      <td>17021</td>\n",
       "      <td>17021</td>\n",
       "      <td>17021</td>\n",
       "      <td>17021</td>\n",
       "      <td>...</td>\n",
       "      <td>17021</td>\n",
       "      <td>16993</td>\n",
       "      <td>17021</td>\n",
       "      <td>16769</td>\n",
       "      <td>17002</td>\n",
       "      <td>17021</td>\n",
       "      <td>17021</td>\n",
       "      <td>17021</td>\n",
       "      <td>17021</td>\n",
       "      <td>17021</td>\n",
       "    </tr>\n",
       "    <tr>\n",
       "      <th>NONE</th>\n",
       "      <td>3</td>\n",
       "      <td>3</td>\n",
       "      <td>3</td>\n",
       "      <td>3</td>\n",
       "      <td>3</td>\n",
       "      <td>3</td>\n",
       "      <td>3</td>\n",
       "      <td>3</td>\n",
       "      <td>3</td>\n",
       "      <td>3</td>\n",
       "      <td>...</td>\n",
       "      <td>3</td>\n",
       "      <td>1</td>\n",
       "      <td>3</td>\n",
       "      <td>0</td>\n",
       "      <td>1</td>\n",
       "      <td>3</td>\n",
       "      <td>3</td>\n",
       "      <td>3</td>\n",
       "      <td>3</td>\n",
       "      <td>3</td>\n",
       "    </tr>\n",
       "    <tr>\n",
       "      <th>OTHER</th>\n",
       "      <td>98</td>\n",
       "      <td>98</td>\n",
       "      <td>98</td>\n",
       "      <td>98</td>\n",
       "      <td>98</td>\n",
       "      <td>98</td>\n",
       "      <td>98</td>\n",
       "      <td>98</td>\n",
       "      <td>98</td>\n",
       "      <td>98</td>\n",
       "      <td>...</td>\n",
       "      <td>98</td>\n",
       "      <td>98</td>\n",
       "      <td>98</td>\n",
       "      <td>98</td>\n",
       "      <td>98</td>\n",
       "      <td>98</td>\n",
       "      <td>98</td>\n",
       "      <td>98</td>\n",
       "      <td>98</td>\n",
       "      <td>98</td>\n",
       "    </tr>\n",
       "    <tr>\n",
       "      <th>OWN</th>\n",
       "      <td>2975</td>\n",
       "      <td>2975</td>\n",
       "      <td>2975</td>\n",
       "      <td>2975</td>\n",
       "      <td>2975</td>\n",
       "      <td>2975</td>\n",
       "      <td>2975</td>\n",
       "      <td>2975</td>\n",
       "      <td>2975</td>\n",
       "      <td>2975</td>\n",
       "      <td>...</td>\n",
       "      <td>2975</td>\n",
       "      <td>2969</td>\n",
       "      <td>2975</td>\n",
       "      <td>2913</td>\n",
       "      <td>2969</td>\n",
       "      <td>2975</td>\n",
       "      <td>2975</td>\n",
       "      <td>2975</td>\n",
       "      <td>2975</td>\n",
       "      <td>2975</td>\n",
       "    </tr>\n",
       "    <tr>\n",
       "      <th>RENT</th>\n",
       "      <td>18480</td>\n",
       "      <td>18480</td>\n",
       "      <td>18480</td>\n",
       "      <td>18480</td>\n",
       "      <td>18480</td>\n",
       "      <td>18480</td>\n",
       "      <td>18480</td>\n",
       "      <td>18480</td>\n",
       "      <td>18480</td>\n",
       "      <td>18480</td>\n",
       "      <td>...</td>\n",
       "      <td>18480</td>\n",
       "      <td>18460</td>\n",
       "      <td>18480</td>\n",
       "      <td>18100</td>\n",
       "      <td>18468</td>\n",
       "      <td>18480</td>\n",
       "      <td>18480</td>\n",
       "      <td>18480</td>\n",
       "      <td>18480</td>\n",
       "      <td>18480</td>\n",
       "    </tr>\n",
       "  </tbody>\n",
       "</table>\n",
       "<p>5 rows × 58 columns</p>\n",
       "</div>"
      ],
      "text/plain": [
       "                   id  member_id  loan_amnt  funded_amnt  funded_amnt_inv  \\\n",
       "home_ownership                                                              \n",
       "MORTGAGE        17021      17021      17021        17021            17021   \n",
       "NONE                3          3          3            3                3   \n",
       "OTHER              98         98         98           98               98   \n",
       "OWN              2975       2975       2975         2975             2975   \n",
       "RENT            18480      18480      18480        18480            18480   \n",
       "\n",
       "                 term  int_rate  installment  grade  sub_grade  \\\n",
       "home_ownership                                                   \n",
       "MORTGAGE        17021     17021        17021  17021      17021   \n",
       "NONE                3         3            3      3          3   \n",
       "OTHER              98        98           98     98         98   \n",
       "OWN              2975      2975         2975   2975       2975   \n",
       "RENT            18480     18480        18480  18480      18480   \n",
       "\n",
       "                     ...         acc_now_delinq  chargeoff_within_12_mths  \\\n",
       "home_ownership       ...                                                    \n",
       "MORTGAGE             ...                  17021                     16993   \n",
       "NONE                 ...                      3                         1   \n",
       "OTHER                ...                     98                        98   \n",
       "OWN                  ...                   2975                      2969   \n",
       "RENT                 ...                  18480                     18460   \n",
       "\n",
       "                delinq_amnt  pub_rec_bankruptcies  tax_liens  default  \\\n",
       "home_ownership                                                          \n",
       "MORTGAGE              17021                 16769      17002    17021   \n",
       "NONE                      3                     0          1        3   \n",
       "OTHER                    98                    98         98       98   \n",
       "OWN                    2975                  2913       2969     2975   \n",
       "RENT                  18480                 18100      18468    18480   \n",
       "\n",
       "                loan_amount_category  int_rate_num  interest_rate_category  \\\n",
       "home_ownership                                                               \n",
       "MORTGAGE                       17021         17021                   17021   \n",
       "NONE                               3             3                       3   \n",
       "OTHER                             98            98                      98   \n",
       "OWN                             2975          2975                    2975   \n",
       "RENT                           18480         18480                   18480   \n",
       "\n",
       "                income_category  \n",
       "home_ownership                   \n",
       "MORTGAGE                  17021  \n",
       "NONE                          3  \n",
       "OTHER                        98  \n",
       "OWN                        2975  \n",
       "RENT                      18480  \n",
       "\n",
       "[5 rows x 58 columns]"
      ]
     },
     "execution_count": 45,
     "metadata": {},
     "output_type": "execute_result"
    }
   ],
   "source": [
    "#by home ownership\n",
    "loan.groupby(\"home_ownership\").count()"
   ]
  },
  {
   "cell_type": "code",
   "execution_count": 46,
   "metadata": {},
   "outputs": [],
   "source": [
    "home_ownership_loan = top_purpose_loan[top_purpose_loan['home_ownership'].isin(['MORTGAGE','OWN','RENT'])]"
   ]
  },
  {
   "cell_type": "code",
   "execution_count": 47,
   "metadata": {},
   "outputs": [
    {
     "data": {
      "image/png": "[encoded data removed]",
      "text/plain": [
       "<Figure size 1440x720 with 1 Axes>"
      ]
     },
     "metadata": {},
     "output_type": "display_data"
    }
   ],
   "source": [
    "#loan by home owner ship\n",
    "plt.figure(figsize=[20, 10])\n",
    "sns.barplot(x='home_ownership',hue='purpose', y=\"default\", data=home_ownership_loan)\n",
    "plt.show()"
   ]
  },
  {
   "cell_type": "code",
   "execution_count": 48,
   "metadata": {},
   "outputs": [],
   "source": [
    "# Rented owners has higher chance of default"
   ]
  },
  {
   "cell_type": "code",
   "execution_count": 49,
   "metadata": {},
   "outputs": [
    {
     "data": {
      "image/png": "[encoded data removed]",
      "text/plain": [
       "<Figure size 1440x720 with 1 Axes>"
      ]
     },
     "metadata": {},
     "output_type": "display_data"
    }
   ],
   "source": [
    "#loan by income category\n",
    "plt.figure(figsize=[20, 10])\n",
    "sns.barplot(x='income_category',hue='purpose', y=\"default\", data=home_ownership_loan)\n",
    "plt.show()"
   ]
  },
  {
   "cell_type": "code",
   "execution_count": 50,
   "metadata": {},
   "outputs": [
    {
     "data": {
      "image/png": "[encoded data removed]",
      "text/plain": [
       "<Figure size 1440x720 with 1 Axes>"
      ]
     },
     "metadata": {},
     "output_type": "display_data"
    }
   ],
   "source": [
    "#loan by interest rate\n",
    "plt.figure(figsize=[20, 10])\n",
    "sns.barplot(x='interest_rate_category',hue='purpose', y=\"default\", data=home_ownership_loan)\n",
    "plt.show()"
   ]
  },
  {
   "cell_type": "code",
   "execution_count": 51,
   "metadata": {},
   "outputs": [
    {
     "data": {
      "image/png": "[encoded data removed]",
      "text/plain": [
       "<Figure size 1440x720 with 1 Axes>"
      ]
     },
     "metadata": {},
     "output_type": "display_data"
    }
   ],
   "source": [
    "#loan by verification_status\n",
    "plt.figure(figsize=[20, 10])\n",
    "sns.barplot(x='verification_status',hue='purpose', y=\"default\", data=home_ownership_loan)\n",
    "plt.show()"
   ]
  },
  {
   "cell_type": "code",
   "execution_count": 90,
   "metadata": {},
   "outputs": [
    {
     "data": {
      "image/png": "[encoded data removed]",
      "text/plain": [
       "<Figure size 1440x720 with 1 Axes>"
      ]
     },
     "metadata": {},
     "output_type": "display_data"
    }
   ],
   "source": [
    "#loan by state\n",
    "plt.figure(figsize=[20, 10])\n",
    "\n",
    "sns.barplot(x='addr_state', y=\"default\", data=loan)\n",
    "plt.show()"
   ]
  },
  {
   "cell_type": "code",
   "execution_count": 97,
   "metadata": {},
   "outputs": [
    {
     "data": {
      "image/png": "[encoded data removed]",
      "text/plain": [
       "<Figure size 1440x720 with 1 Axes>"
      ]
     },
     "metadata": {},
     "output_type": "display_data"
    }
   ],
   "source": [
    "#loan by emplyment length\n",
    "ld_by_emp_length = loan\n",
    "custom_sort2 = {'< 1 year':0,'1 year':1,'2 years':2,'3 years':3,'4 years':4,'5 years':5,'6 years':6,'7 years':7,'8 years':8,'9 years':9,'10+ years':10}\n",
    "ld_by_emp_length['rank'] = ld_by_emp_length['emp_length'].map(custom_sort2)\n",
    "ld_by_emp_length.sort_values( 'rank' ,inplace=True) \n",
    "plt.figure(figsize=[20, 10])\n",
    "\n",
    "sns.barplot(x='emp_length', y=\"default\", data=ld_by_emp_length)\n",
    "plt.show()"
   ]
  },
  {
   "cell_type": "code",
   "execution_count": 98,
   "metadata": {},
   "outputs": [],
   "source": [
    "loan_defaulters_bva = loan[ ['loan_amnt','installment','annual_inc','dti','delinq_2yrs','inq_last_6mths','open_acc','pub_rec','pub_rec_bankruptcies','revol_bal','total_acc','total_pymnt',\n",
    "'total_rec_prncp']]"
   ]
  },
  {
   "cell_type": "code",
   "execution_count": 105,
   "metadata": {
    "scrolled": true
   },
   "outputs": [
    {
     "data": {
      "image/png": "[encoded data removed]",
      "text/plain": [
       "<Figure size 720x720 with 4 Axes>"
      ]
     },
     "metadata": {},
     "output_type": "display_data"
    }
   ],
   "source": [
    "corr = loan_defaulters_bva.corr().mul(100).astype(int)\n",
    "sns.clustermap(data=corr, annot=True, fmt='d', cmap='Greens').savefig('cluster.png')"
   ]
  },
  {
   "cell_type": "code",
   "execution_count": 106,
   "metadata": {},
   "outputs": [],
   "source": [
    "\n",
    "# Conclusion:\n",
    "\n",
    "## Correlation - Positive \n",
    "#### \"pub_rec\" and \"pub_rec_bankruptcies\" has positive correlation of +86. Which means a applicant/customer who has derogatory public records has a high chance of having huge number of public record bankruptcies.\n",
    "\n",
    "## Correlation - Negative\n",
    "#### \"pub_rec\" and \"pub_rec_bankruptcies\" has negative correlation with \"total_pymnt\" as -4 and -3 respectively. Which means a applicant/customer who has derogatory public records or public record bankruptcies has a very less chance of repaying the loan amount. Leading them to be a defaulter. So avoid giving loan to these applicants.\n",
    "\n",
    "### -----------------------------------------------------------------------------------------------------------------------------------------------------------\n"
   ]
  },
  {
   "cell_type": "code",
   "execution_count": null,
   "metadata": {},
   "outputs": [],
   "source": []
  }
 ],
 "metadata": {
  "kernelspec": {
   "display_name": "Python 2",
   "language": "python",
   "name": "python2"
  },
  "language_info": {
   "codemirror_mode": {
    "name": "ipython",
    "version": 2
   },
   "file_extension": ".py",
   "mimetype": "text/x-python",
   "name": "python",
   "nbconvert_exporter": "python",
   "pygments_lexer": "ipython2",
   "version": "2.7.10"
  }
 },
 "nbformat": 4,
 "nbformat_minor": 2
}
