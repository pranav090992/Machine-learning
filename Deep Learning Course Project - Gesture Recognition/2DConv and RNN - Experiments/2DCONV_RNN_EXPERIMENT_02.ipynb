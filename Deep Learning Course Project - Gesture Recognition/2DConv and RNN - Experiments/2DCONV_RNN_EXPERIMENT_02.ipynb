{
 "cells": [
  {
   "cell_type": "markdown",
   "metadata": {},
   "source": [
    "# Gesture Recognition\n",
    "In this group project, you are going to build a 3D Conv model that will be able to predict the 5 gestures correctly. Please import the following libraries to get started.\n",
    "\n",
    "This section deals with 2D Conv Model "
   ]
  },
  {
   "cell_type": "code",
   "execution_count": 1,
   "metadata": {},
   "outputs": [],
   "source": [
    "import numpy as np\n",
    "import os\n",
    "from scipy.misc import imread, imresize\n",
    "import datetime\n",
    "import os\n",
    "import cv2\n",
    "import matplotlib.pyplot as plt"
   ]
  },
  {
   "cell_type": "markdown",
   "metadata": {},
   "source": [
    "We set the random seed so that the results don't vary drastically."
   ]
  },
  {
   "cell_type": "code",
   "execution_count": 2,
   "metadata": {},
   "outputs": [
    {
     "name": "stderr",
     "output_type": "stream",
     "text": [
      "Using TensorFlow backend.\n"
     ]
    }
   ],
   "source": [
    "np.random.seed(30)\n",
    "import random as rn\n",
    "rn.seed(30)\n",
    "from keras import backend as K\n",
    "import tensorflow as tf\n",
    "tf.set_random_seed(30)"
   ]
  },
  {
   "cell_type": "markdown",
   "metadata": {},
   "source": [
    "In this block, you read the folder names for training and validation. You also set the `batch_size` here. Note that you set the batch size in such a way that you are able to use the GPU in full capacity. You keep increasing the batch size until the machine throws an error."
   ]
  },
  {
   "cell_type": "code",
   "execution_count": 3,
   "metadata": {},
   "outputs": [],
   "source": [
    "train_doc = np.random.permutation(open('./Project_data/train.csv').readlines())\n",
    "val_doc = np.random.permutation(open('./Project_data/val.csv').readlines())\n",
    "batch_size = 15"
   ]
  },
  {
   "cell_type": "markdown",
   "metadata": {},
   "source": [
    "## Generator\n",
    "This is one of the most important part of the code. The overall structure of the generator has been given. In the generator, you are going to preprocess the images as you have images of 2 different dimensions as well as create a batch of video frames. You have to experiment with `img_idx`, `y`,`z` and normalization such that you get high accuracy."
   ]
  },
  {
   "cell_type": "code",
   "execution_count": 4,
   "metadata": {},
   "outputs": [],
   "source": [
    "def generator(source_path, folder_list, batch_size):\n",
    "    print( 'Source path = ', source_path, '; batch size =', batch_size)\n",
    "    img_idx = list(range(0,29))          #create a list of image numbers you want to use for a particular video\n",
    "    while True:\n",
    "        t = np.random.permutation(folder_list)\n",
    "        \n",
    "        # x is the number of images you use for each video, (y,z) is the final size of the input images and 3 is the number of channels RGB\n",
    "        x = len(img_idx) \n",
    "        total_frames = x\n",
    "        y = 100\n",
    "        z = 100\n",
    "        \n",
    "        num_batches = len(folder_list)//batch_size        # calculate the number of batches\n",
    "        \n",
    "        for batch in range(num_batches): # we iterate over the number of batches\n",
    "            batch_data = np.zeros((batch_size,x,y,z,3)) # x is the number of images you use for each video, (y,z) is the final size of the input images and 3 is the number of channels RGB\n",
    "            batch_labels = np.zeros((batch_size,5)) # batch_labels is the one hot representation of the output\n",
    "            for folder in range(batch_size): # iterate over the batch_size\n",
    "                imgs = os.listdir(source_path+'/'+ t[folder + (batch*batch_size)].split(';')[0]) # read all the images in the folder\n",
    "                for idx,item in enumerate(img_idx): #  Iterate iver the frames/images of a folder to read them in\n",
    "                    image = imread(source_path+'/'+ t[folder + (batch*batch_size)].strip().split(';')[0]+'/'+imgs[item]).astype(np.float32)\n",
    "                    \n",
    "                    #crop the images and resize them. Note that the images are of 2 different shape \n",
    "                    #and the conv3D will throw error if the inputs in a batch have different shapes\n",
    "                    \n",
    "                    # I was able to find only 2 image sizes(w*h) 160*120 and 360*360, \n",
    "                    # So cropping 160*120 images on both left and right side to make it 120*120.\n",
    "                    height, width , channel = image.shape\n",
    "                    #print('Width:', width)\n",
    "                    #print('Height:', height)\n",
    "                    \n",
    "                    #if width == 160:\n",
    "                    #    image_crop = image[0:120, 20:140]\n",
    "                    #    image = image_crop\n",
    "                    \n",
    "                    # Re-sizing both 120*120 (cropped) and 360*360 images into 100*100 image\n",
    "                    new_image = cv2.resize(image,(y,z))\n",
    "                    new_image[:,:,1:2] = 0\n",
    "                    \n",
    "                    batch_data[folder,idx,:,:,0] = (new_image[:,:,0] - new_image.mean())/new_image.std()   #normalise and feed in the image\n",
    "                    batch_data[folder,idx,:,:,1] = (new_image[:,:,1] - new_image.mean())/new_image.std()   #normalise and feed in the image\n",
    "                    batch_data[folder,idx,:,:,2] = (new_image[:,:,2] - new_image.mean())/new_image.std()   #normalise and feed in the image\n",
    "                    \n",
    "                batch_labels[folder, int(t[folder + (batch*batch_size)].strip().split(';')[2])] = 1\n",
    "            yield batch_data, batch_labels #you yield the batch_data and the batch_labels, remember what does yield do\n",
    "\n",
    "        \n",
    "        # write the code for the remaining data points which are left after full batches\n",
    "\n",
    "        if len(folder_list) > num_batches * batch_size:\n",
    "            batch_data = np.zeros((batch_size,x,y,z,3)) # x is the number of images you use for each video, (y,z) is the final size of the input images and 3 is the number of channels RGB\n",
    "            batch_labels = np.zeros((batch_size,5)) # batch_labels is the one hot representation of the output\n",
    "            for folder in range(batch_size): # iterate over the batch_size\n",
    "                imgs = os.listdir(source_path+'/'+ t[folder + (batch*batch_size)].split(';')[0]) # read all the images in the folder\n",
    "                for idx,item in enumerate(img_idx): #  Iterate iver the frames/images of a folder to read them in\n",
    "                    image = imread(source_path+'/'+ t[folder + (batch*batch_size)].strip().split(';')[0]+'/'+imgs[item]).astype(np.float32)\n",
    "                    \n",
    "                    #crop the images and resize them. Note that the images are of 2 different shape \n",
    "                    #and the conv3D will throw error if the inputs in a batch have different shapes\n",
    "                    \n",
    "                    # I was able to find only 2 image sizes(w*h) 160*120 and 360*360, \n",
    "                    # So cropping 160*120 images on both left and right side to make it 120*120.\n",
    "                    height, width , channel = image.shape\n",
    "                    #print('Width:', width)\n",
    "                    #print('Height:', height)\n",
    "                    \n",
    "                    #if width == 160:\n",
    "                    #    image_crop = image[0:120, 20:140]\n",
    "                    #    image = image_crop\n",
    "                    \n",
    "                    # Re-sizing both 120*120 (cropped) and 360*360 images into 100*100 image\n",
    "                    new_image = cv2.resize(image,(y,z))\n",
    "                    new_image[:,:,1:2] = 0\n",
    "                    \n",
    "                    batch_data[folder,idx,:,:,0] = (new_image[:,:,0] - new_image.mean())/new_image.std()   #normalise and feed in the image\n",
    "                    batch_data[folder,idx,:,:,1] = (new_image[:,:,1] - new_image.mean())/new_image.std()   #normalise and feed in the image\n",
    "                    batch_data[folder,idx,:,:,2] = (new_image[:,:,2] - new_image.mean())/new_image.std()   #normalise and feed in the image\n",
    "                    \n",
    "                batch_labels[folder, int(t[folder + (batch*batch_size)].strip().split(';')[2])] = 1\n",
    "            yield batch_data, batch_labels #you yield the batch_data and the batch_labels, remember what does yield do\n",
    "\n",
    "        "
   ]
  },
  {
   "cell_type": "markdown",
   "metadata": {},
   "source": [
    "Note here that a video is represented above in the generator as (number of images, height, width, number of channels). Take this into consideration while creating the model architecture."
   ]
  },
  {
   "cell_type": "code",
   "execution_count": 5,
   "metadata": {},
   "outputs": [
    {
     "name": "stdout",
     "output_type": "stream",
     "text": [
      "# training sequences = 663\n",
      "# validation sequences = 100\n",
      "# epochs = 20\n"
     ]
    }
   ],
   "source": [
    "curr_dt_time = datetime.datetime.now()\n",
    "train_path = './Project_data/train'\n",
    "val_path = './Project_data/val'\n",
    "num_train_sequences = len(train_doc)\n",
    "print('# training sequences =', num_train_sequences)\n",
    "num_val_sequences = len(val_doc)\n",
    "print('# validation sequences =', num_val_sequences)\n",
    "num_epochs = 20\n",
    "print ('# epochs =', num_epochs)"
   ]
  },
  {
   "cell_type": "markdown",
   "metadata": {},
   "source": [
    "## Model\n",
    "Here you make the model using different functionalities that Keras provides. Remember to use `Conv3D` and `MaxPooling3D` and not `Conv2D` and `Maxpooling2D` for a 3D convolution model. You would want to use `TimeDistributed` while building a Conv2D + RNN model. Also remember that the last layer is the softmax. Design the network in such a way that the model is able to give good accuracy on the least number of parameters so that it can fit in the memory of the webcam."
   ]
  },
  {
   "cell_type": "code",
   "execution_count": 6,
   "metadata": {},
   "outputs": [],
   "source": [
    "from keras.models import Sequential, Model\n",
    "from keras.layers import Dense, GRU, Flatten, TimeDistributed, Flatten, BatchNormalization, Activation, Dropout\n",
    "from keras.layers.convolutional import Conv2D, MaxPooling2D\n",
    "from keras.callbacks import ModelCheckpoint, ReduceLROnPlateau\n",
    "from keras import optimizers\n",
    "from keras.regularizers import l2\n",
    "\n",
    "#write your model here\n",
    "\n",
    "\n",
    "cnn = Sequential()\n",
    "cnn.add(Conv2D(32, (3, 3), padding='same', input_shape=(100,100,3)))\n",
    "cnn.add(BatchNormalization())\n",
    "cnn.add(Activation('relu')) \n",
    "cnn.add(MaxPooling2D(pool_size=(2,2)))\n",
    "\n",
    "cnn.add(Conv2D(64, (3, 3), padding='same', input_shape=(100,100,3)))\n",
    "cnn.add(BatchNormalization())\n",
    "cnn.add(Activation('relu')) \n",
    "cnn.add(MaxPooling2D(pool_size=(2,2)))\n",
    "\n",
    "cnn.add(Conv2D(128, (3, 3), padding='same', input_shape=(100,100,3)))\n",
    "cnn.add(BatchNormalization())\n",
    "cnn.add(Activation('relu')) \n",
    "cnn.add(MaxPooling2D(pool_size=(2,2)))\n",
    " \n",
    "\n",
    "cnn.add(Flatten())\n",
    "cnn.add(Dense(256, activation='relu'))\n",
    "cnn.add(Dropout(0.5))\n",
    "cnn.add(Dense(256, activation='relu'))\n",
    "\n",
    "\n",
    "model = Sequential()\n",
    "model.add(TimeDistributed(cnn, input_shape=(29, 100, 100,3)))\n",
    "model.add(GRU(12))\n",
    "model.add(Dropout(.2)) #added\n",
    "model.add(Dense(5, activation='softmax'))"
   ]
  },
  {
   "cell_type": "markdown",
   "metadata": {},
   "source": [
    "Now that you have written the model, the next step is to `compile` the model. When you print the `summary` of the model, you'll see the total number of parameters you have to train."
   ]
  },
  {
   "cell_type": "code",
   "execution_count": 7,
   "metadata": {
    "scrolled": true
   },
   "outputs": [
    {
     "name": "stdout",
     "output_type": "stream",
     "text": [
      "_________________________________________________________________\n",
      "Layer (type)                 Output Shape              Param #   \n",
      "=================================================================\n",
      "time_distributed_1 (TimeDist (None, 29, 256)           4878784   \n",
      "_________________________________________________________________\n",
      "gru_1 (GRU)                  (None, 12)                9684      \n",
      "_________________________________________________________________\n",
      "dropout_2 (Dropout)          (None, 12)                0         \n",
      "_________________________________________________________________\n",
      "dense_3 (Dense)              (None, 5)                 65        \n",
      "=================================================================\n",
      "Total params: 4,888,533\n",
      "Trainable params: 4,888,085\n",
      "Non-trainable params: 448\n",
      "_________________________________________________________________\n",
      "None\n"
     ]
    }
   ],
   "source": [
    "optimiser = optimizers.SGD(lr=0.01);           #write your optimizer\n",
    "model.compile(optimizer=optimiser, loss='categorical_crossentropy', metrics=['categorical_accuracy'])\n",
    "print (model.summary())"
   ]
  },
  {
   "cell_type": "markdown",
   "metadata": {},
   "source": [
    "Let us create the `train_generator` and the `val_generator` which will be used in `.fit_generator`."
   ]
  },
  {
   "cell_type": "code",
   "execution_count": 8,
   "metadata": {},
   "outputs": [],
   "source": [
    "train_generator = generator(train_path, train_doc, batch_size)\n",
    "val_generator = generator(val_path, val_doc, batch_size)"
   ]
  },
  {
   "cell_type": "code",
   "execution_count": 9,
   "metadata": {},
   "outputs": [],
   "source": [
    "model_name = 'model_init' + '_' + str(curr_dt_time).replace(' ','').replace(':','_') + '/'\n",
    "    \n",
    "if not os.path.exists(model_name):\n",
    "    os.mkdir(model_name)\n",
    "        \n",
    "filepath = model_name + 'model-{epoch:05d}-{loss:.5f}-{categorical_accuracy:.5f}-{val_loss:.5f}-{val_categorical_accuracy:.5f}.h5'\n",
    "\n",
    "checkpoint = ModelCheckpoint(filepath, monitor='val_loss', verbose=1, save_best_only=False, save_weights_only=False, mode='auto', period=1)\n",
    "\n",
    "LR = ReduceLROnPlateau(monitor='val_loss', factor=0.5, patience=2, cooldown=1, verbose=1)          # write the REducelronplateau code here\n",
    "callbacks_list = [checkpoint, LR]"
   ]
  },
  {
   "cell_type": "markdown",
   "metadata": {},
   "source": [
    "The `steps_per_epoch` and `validation_steps` are used by `fit_generator` to decide the number of next() calls it need to make."
   ]
  },
  {
   "cell_type": "code",
   "execution_count": 10,
   "metadata": {},
   "outputs": [],
   "source": [
    "if (num_train_sequences%batch_size) == 0:\n",
    "    steps_per_epoch = int(num_train_sequences/batch_size)\n",
    "else:\n",
    "    steps_per_epoch = (num_train_sequences//batch_size) + 1\n",
    "\n",
    "if (num_val_sequences%batch_size) == 0:\n",
    "    validation_steps = int(num_val_sequences/batch_size)\n",
    "else:\n",
    "    validation_steps = (num_val_sequences//batch_size) + 1"
   ]
  },
  {
   "cell_type": "markdown",
   "metadata": {},
   "source": [
    "Let us now fit the model. This will start training the model and with the help of the checkpoints, you'll be able to save the model at the end of each epoch."
   ]
  },
  {
   "cell_type": "code",
   "execution_count": 11,
   "metadata": {},
   "outputs": [
    {
     "name": "stdout",
     "output_type": "stream",
     "text": [
      "Source path =  ./Project_data/valSource path =  ./Project_data/train ; batch size = 15\n",
      " Epoch 1/20\n",
      "; batch size = 15\n"
     ]
    },
    {
     "name": "stderr",
     "output_type": "stream",
     "text": [
      "/mnt/disks/user/anaconda3/lib/python3.6/site-packages/ipykernel_launcher.py:21: DeprecationWarning: `imread` is deprecated!\n",
      "`imread` is deprecated in SciPy 1.0.0, and will be removed in 1.2.0.\n",
      "Use ``imageio.imread`` instead.\n"
     ]
    },
    {
     "name": "stdout",
     "output_type": "stream",
     "text": [
      " 5/45 [==>...........................] - ETA: 3:23 - loss: 1.8167 - categorical_accuracy: 0.2000"
     ]
    },
    {
     "name": "stderr",
     "output_type": "stream",
     "text": [
      "/mnt/disks/user/anaconda3/lib/python3.6/site-packages/ipykernel_launcher.py:56: DeprecationWarning: `imread` is deprecated!\n",
      "`imread` is deprecated in SciPy 1.0.0, and will be removed in 1.2.0.\n",
      "Use ``imageio.imread`` instead.\n"
     ]
    },
    {
     "name": "stdout",
     "output_type": "stream",
     "text": [
      "45/45 [==============================] - 201s 4s/step - loss: 1.8053 - categorical_accuracy: 0.2074 - val_loss: 1.6685 - val_categorical_accuracy: 0.2095\n",
      "\n",
      "Epoch 00001: saving model to model_init_2019-03-1715_56_20.814791/model-00001-1.80529-0.20741-1.66855-0.20952.h5\n",
      "Epoch 2/20\n",
      "45/45 [==============================] - 62s 1s/step - loss: 1.6985 - categorical_accuracy: 0.2089 - val_loss: 1.6839 - val_categorical_accuracy: 0.1810\n",
      "\n",
      "Epoch 00002: saving model to model_init_2019-03-1715_56_20.814791/model-00002-1.69852-0.20889-1.68385-0.18095.h5\n",
      "Epoch 3/20\n",
      "45/45 [==============================] - 61s 1s/step - loss: 1.6217 - categorical_accuracy: 0.2756 - val_loss: 1.4127 - val_categorical_accuracy: 0.3714\n",
      "\n",
      "Epoch 00003: saving model to model_init_2019-03-1715_56_20.814791/model-00003-1.62172-0.27556-1.41274-0.37143.h5\n",
      "Epoch 4/20\n",
      "45/45 [==============================] - 61s 1s/step - loss: 1.5320 - categorical_accuracy: 0.3422 - val_loss: 1.4353 - val_categorical_accuracy: 0.3810\n",
      "\n",
      "Epoch 00004: saving model to model_init_2019-03-1715_56_20.814791/model-00004-1.53200-0.34222-1.43532-0.38095.h5\n",
      "Epoch 5/20\n",
      "45/45 [==============================] - 61s 1s/step - loss: 1.3618 - categorical_accuracy: 0.4444 - val_loss: 1.3188 - val_categorical_accuracy: 0.5143\n",
      "\n",
      "Epoch 00005: saving model to model_init_2019-03-1715_56_20.814791/model-00005-1.36179-0.44444-1.31884-0.51429.h5\n",
      "Epoch 6/20\n",
      "45/45 [==============================] - 61s 1s/step - loss: 1.1861 - categorical_accuracy: 0.5556 - val_loss: 1.3944 - val_categorical_accuracy: 0.4190\n",
      "\n",
      "Epoch 00006: saving model to model_init_2019-03-1715_56_20.814791/model-00006-1.18614-0.55556-1.39437-0.41905.h5\n",
      "Epoch 7/20\n",
      "45/45 [==============================] - 60s 1s/step - loss: 1.0868 - categorical_accuracy: 0.5941 - val_loss: 1.1342 - val_categorical_accuracy: 0.5714\n",
      "\n",
      "Epoch 00007: saving model to model_init_2019-03-1715_56_20.814791/model-00007-1.08679-0.59407-1.13419-0.57143.h5\n",
      "Epoch 8/20\n",
      "45/45 [==============================] - 60s 1s/step - loss: 0.9748 - categorical_accuracy: 0.6696 - val_loss: 1.2763 - val_categorical_accuracy: 0.4667\n",
      "\n",
      "Epoch 00008: saving model to model_init_2019-03-1715_56_20.814791/model-00008-0.97480-0.66963-1.27630-0.46667.h5\n",
      "Epoch 9/20\n",
      "45/45 [==============================] - 60s 1s/step - loss: 0.8814 - categorical_accuracy: 0.7185 - val_loss: 1.1837 - val_categorical_accuracy: 0.5238\n",
      "\n",
      "Epoch 00009: saving model to model_init_2019-03-1715_56_20.814791/model-00009-0.88138-0.71852-1.18373-0.52381.h5\n",
      "\n",
      "Epoch 00009: ReduceLROnPlateau reducing learning rate to 0.004999999888241291.\n",
      "Epoch 10/20\n",
      "45/45 [==============================] - 61s 1s/step - loss: 0.7489 - categorical_accuracy: 0.7852 - val_loss: 0.9150 - val_categorical_accuracy: 0.7143\n",
      "\n",
      "Epoch 00010: saving model to model_init_2019-03-1715_56_20.814791/model-00010-0.74892-0.78519-0.91496-0.71429.h5\n",
      "Epoch 11/20\n",
      "45/45 [==============================] - 61s 1s/step - loss: 0.6587 - categorical_accuracy: 0.8356 - val_loss: 0.9953 - val_categorical_accuracy: 0.6476\n",
      "\n",
      "Epoch 00011: saving model to model_init_2019-03-1715_56_20.814791/model-00011-0.65875-0.83556-0.99525-0.64762.h5\n",
      "Epoch 12/20\n",
      "45/45 [==============================] - 61s 1s/step - loss: 0.5760 - categorical_accuracy: 0.8637 - val_loss: 0.9394 - val_categorical_accuracy: 0.6762\n",
      "\n",
      "Epoch 00012: saving model to model_init_2019-03-1715_56_20.814791/model-00012-0.57597-0.86370-0.93939-0.67619.h5\n",
      "\n",
      "Epoch 00012: ReduceLROnPlateau reducing learning rate to 0.0024999999441206455.\n",
      "Epoch 13/20\n",
      "45/45 [==============================] - 61s 1s/step - loss: 0.5141 - categorical_accuracy: 0.8948 - val_loss: 0.9117 - val_categorical_accuracy: 0.6952\n",
      "\n",
      "Epoch 00013: saving model to model_init_2019-03-1715_56_20.814791/model-00013-0.51405-0.89481-0.91175-0.69524.h5\n",
      "Epoch 14/20\n",
      "45/45 [==============================] - 61s 1s/step - loss: 0.4699 - categorical_accuracy: 0.9141 - val_loss: 0.8839 - val_categorical_accuracy: 0.6952\n",
      "\n",
      "Epoch 00014: saving model to model_init_2019-03-1715_56_20.814791/model-00014-0.46987-0.91407-0.88389-0.69524.h5\n",
      "Epoch 15/20\n",
      "45/45 [==============================] - 61s 1s/step - loss: 0.4563 - categorical_accuracy: 0.9304 - val_loss: 0.9075 - val_categorical_accuracy: 0.6857\n",
      "\n",
      "Epoch 00015: saving model to model_init_2019-03-1715_56_20.814791/model-00015-0.45631-0.93037-0.90746-0.68571.h5\n",
      "Epoch 16/20\n",
      "45/45 [==============================] - 61s 1s/step - loss: 0.4413 - categorical_accuracy: 0.9304 - val_loss: 0.9652 - val_categorical_accuracy: 0.6571\n",
      "\n",
      "Epoch 00016: saving model to model_init_2019-03-1715_56_20.814791/model-00016-0.44134-0.93037-0.96515-0.65714.h5\n",
      "\n",
      "Epoch 00016: ReduceLROnPlateau reducing learning rate to 0.0012499999720603228.\n",
      "Epoch 17/20\n",
      "45/45 [==============================] - 62s 1s/step - loss: 0.4228 - categorical_accuracy: 0.9393 - val_loss: 1.0202 - val_categorical_accuracy: 0.6667\n",
      "\n",
      "Epoch 00017: saving model to model_init_2019-03-1715_56_20.814791/model-00017-0.42278-0.93926-1.02020-0.66667.h5\n",
      "Epoch 18/20\n",
      "45/45 [==============================] - 62s 1s/step - loss: 0.4167 - categorical_accuracy: 0.9348 - val_loss: 0.9383 - val_categorical_accuracy: 0.6286\n",
      "\n",
      "Epoch 00018: saving model to model_init_2019-03-1715_56_20.814791/model-00018-0.41669-0.93481-0.93833-0.62857.h5\n",
      "\n",
      "Epoch 00018: ReduceLROnPlateau reducing learning rate to 0.0006249999860301614.\n",
      "Epoch 19/20\n",
      "45/45 [==============================] - 62s 1s/step - loss: 0.3831 - categorical_accuracy: 0.9600 - val_loss: 0.9819 - val_categorical_accuracy: 0.6667\n",
      "\n",
      "Epoch 00019: saving model to model_init_2019-03-1715_56_20.814791/model-00019-0.38311-0.96000-0.98190-0.66667.h5\n",
      "Epoch 20/20\n",
      "45/45 [==============================] - 62s 1s/step - loss: 0.3872 - categorical_accuracy: 0.9585 - val_loss: 0.9577 - val_categorical_accuracy: 0.6762\n",
      "\n",
      "Epoch 00020: saving model to model_init_2019-03-1715_56_20.814791/model-00020-0.38724-0.95852-0.95772-0.67619.h5\n",
      "\n",
      "Epoch 00020: ReduceLROnPlateau reducing learning rate to 0.0003124999930150807.\n"
     ]
    }
   ],
   "source": [
    "history = model.fit_generator(train_generator, steps_per_epoch=steps_per_epoch, epochs=num_epochs, verbose=1, \n",
    "                    callbacks=callbacks_list, validation_data=val_generator, \n",
    "                    validation_steps=validation_steps, class_weight=None, workers=1, initial_epoch=0)"
   ]
  },
  {
   "cell_type": "code",
   "execution_count": 12,
   "metadata": {},
   "outputs": [
    {
     "name": "stdout",
     "output_type": "stream",
     "text": [
      "dict_keys(['val_loss', 'val_categorical_accuracy', 'loss', 'categorical_accuracy', 'lr'])\n"
     ]
    }
   ],
   "source": [
    "print(history.history.keys())"
   ]
  },
  {
   "cell_type": "code",
   "execution_count": 13,
   "metadata": {},
   "outputs": [
    {
     "data": {
      "text/plain": [
       "Text(0.5, 1.0, 'Accuracy Curves')"
      ]
     },
     "execution_count": 13,
     "metadata": {},
     "output_type": "execute_result"
    },
    {
     "data": {
      "image/png": "[encoded data removed]",
      "text/plain": [
       "<Figure size 576x432 with 1 Axes>"
      ]
     },
     "metadata": {},
     "output_type": "display_data"
    },
    {
     "data": {
      "image/png": "[encoded data removed]",
      "text/plain": [
       "<Figure size 576x432 with 1 Axes>"
      ]
     },
     "metadata": {},
     "output_type": "display_data"
    }
   ],
   "source": [
    "# Loss Curves\n",
    "plt.figure(figsize=[8,6])\n",
    "plt.plot(history.history['loss'],'r',linewidth=3.0)\n",
    "plt.plot(history.history['val_loss'],'b',linewidth=3.0)\n",
    "plt.legend(['Training loss', 'Validation Loss'],fontsize=18)\n",
    "plt.xlabel('Epochs ',fontsize=16)\n",
    "plt.ylabel('Loss',fontsize=16)\n",
    "plt.title('Loss Curves',fontsize=16)\n",
    " \n",
    "# Accuracy Curves\n",
    "plt.figure(figsize=[8,6])\n",
    "plt.plot(history.history['categorical_accuracy'],'r',linewidth=3.0)\n",
    "plt.plot(history.history['val_categorical_accuracy'],'b',linewidth=3.0)\n",
    "plt.legend(['Training Accuracy', 'Validation Accuracy'],fontsize=18)\n",
    "plt.xlabel('Epochs ',fontsize=16)\n",
    "plt.ylabel('Accuracy',fontsize=16)\n",
    "plt.title('Accuracy Curves',fontsize=16)"
   ]
  },
  {
   "cell_type": "code",
   "execution_count": null,
   "metadata": {},
   "outputs": [],
   "source": []
  }
 ],
 "metadata": {
  "kernelspec": {
   "display_name": "Python 3",
   "language": "python",
   "name": "python3"
  },
  "language_info": {
   "codemirror_mode": {
    "name": "ipython",
    "version": 3
   },
   "file_extension": ".py",
   "mimetype": "text/x-python",
   "name": "python",
   "nbconvert_exporter": "python",
   "pygments_lexer": "ipython3",
   "version": "3.6.8"
  }
 },
 "nbformat": 4,
 "nbformat_minor": 2
}
